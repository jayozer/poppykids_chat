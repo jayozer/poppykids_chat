{
 "cells": [
  {
   "cell_type": "code",
   "execution_count": null,
   "metadata": {},
   "outputs": [],
   "source": [
    "import anthropic\n",
    "\n",
    "client = anthropic.Anthropic(\n",
    "    # defaults to os.environ.get(\"ANTHROPIC_API_KEY\")\n",
    "    api_key=\"my_api_key\",\n",
    ")\n",
    "\n",
    "# Replace placeholders like {{HTML_SOURCE}} with real values,\n",
    "# because the SDK does not support variables.\n",
    "message = client.messages.create(\n",
    "    model=\"claude-3-opus-20240229\",\n",
    "    max_tokens=1000,\n",
    "    temperature=0,\n",
    "    messages=[\n",
    "        {\n",
    "            \"role\": \"user\",\n",
    "            \"content\": [\n",
    "                {\n",
    "                    \"type\": \"text\",\n",
    "                    \"text\": \"I will provide you with the HTML source code of a blog post. Your task is to extract the blog title and content from this HTML in markdown.\\n\\nHere is the HTML source:\\n<html_source>\\n{{HTML_SOURCE}}\\n</html_source>\\n\\nPlease follow these steps:\\n1. Locate the <title> tag in the HTML and extract the text between the opening and closing <title> tags. This will be the blog title.\\n2. Find the main content section of the blog post in the HTML. This is usually contained within <div> or <article> tags, and may have a class or id attribute indicating it is the main content. Extract all the text from this section, ignoring any HTML tags.\\n3. Format your response in like this:\\n\\n**Title:** [Blog Title Here]\\n\\\\n\\\\n\\n**Content:** [Blog Content Here]\\n\\n\\n\\nDo not include any other text, HTML tags, or content in your response. Only include the blog title and content as markdown, formatted as specified above.\"\n",
    "                }\n",
    "            ]\n",
    "        }\n",
    "    ]\n",
    ")\n",
    "print(message.content)"
   ]
  }
 ],
 "metadata": {
  "language_info": {
   "name": "python"
  }
 },
 "nbformat": 4,
 "nbformat_minor": 2
}
