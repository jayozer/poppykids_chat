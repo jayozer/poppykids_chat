{
 "cells": [
  {
   "cell_type": "code",
   "execution_count": null,
   "metadata": {},
   "outputs": [],
   "source": [
    "\"\"\"I will provide you with a document containing question and answer pairs related to pediatric dentistry. Your task is to categorize these QA pairs into around 20 distinct topics. Here are the steps to follow:\n",
    "\n",
    "<document>\n",
    "{{DOCUMENT}}\n",
    "</document>\n",
    "\n",
    "First, carefully read through the entire document and identify the main topics covered by the question and answer pairs. Aim to come up with approximately 20 topics that effectively capture the key themes without too much overlap between topics. \n",
    "\n",
    "Next, go through the document again and categorize each question and answer pair under one and only one of the topics you identified. A given QA pair should not be repeated under multiple topics.\n",
    "\n",
    "Finally, output the categorized QA pairs with the following format:\n",
    "\n",
    "<topic>Topic 1 Name</topic>\n",
    "<qa>\n",
    "Q: Question 1 text \n",
    "A: Answer 1 text\n",
    "</qa>\n",
    "<qa>\n",
    "Q: Question 2 text\n",
    "A: Answer 2 text \n",
    "</qa>\n",
    "\n",
    "<topic>Topic 2 Name</topic>\n",
    "<qa>\n",
    "Q: Question 3 text\n",
    "A: Answer 3 text\n",
    "</qa>\n",
    "\n",
    "And so on for all 20 topics and all QA pairs. Make sure each QA pair is only listed once under its most relevant topic.\"\"\""
   ]
  },
  {
   "cell_type": "markdown",
   "metadata": {},
   "source": [
    "## Load and Test"
   ]
  },
  {
   "cell_type": "code",
   "execution_count": null,
   "metadata": {},
   "outputs": [],
   "source": [
    "! pip install anthropic"
   ]
  },
  {
   "cell_type": "code",
   "execution_count": 2,
   "metadata": {},
   "outputs": [],
   "source": [
    "from dotenv import load_dotenv\n",
    "import os\n",
    "\n",
    "# Load the environment variables from the .env file\n",
    "load_dotenv()\n",
    "\n",
    "# Get the Claude API key from the environment variables\n",
    "anthropic_api_key = os.getenv(\"ANTHROPIC_API_KEY\")"
   ]
  },
  {
   "cell_type": "code",
   "execution_count": 4,
   "metadata": {},
   "outputs": [
    {
     "name": "stdout",
     "output_type": "stream",
     "text": [
      " The capital of France is Paris.\n"
     ]
    }
   ],
   "source": [
    "import anthropic\n",
    "\n",
    "client = anthropic.Anthropic(\n",
    "    # defaults to os.environ.get(\"ANTHROPIC_API_KEY\")\n",
    "    api_key=anthropic_api_key,\n",
    ")\n",
    "\n",
    "prompt = \"What is the capital of France?\"\n",
    "response = client.completions.create(\n",
    "    prompt=f\"{anthropic.HUMAN_PROMPT} {prompt}{anthropic.AI_PROMPT}\",\n",
    "    stop_sequences=[anthropic.HUMAN_PROMPT],\n",
    "    model=\"claude-v1\",\n",
    "    max_tokens_to_sample=100\n",
    ")\n",
    "\n",
    "print(response.completion)"
   ]
  },
  {
   "cell_type": "code",
   "execution_count": 3,
   "metadata": {},
   "outputs": [],
   "source": [
    "# read the clean_faq_dataset.txt file and store content in a variable called DOCUMENT\n",
    "with open('/Users/acrobat/Documents/GitHub/extract_html/clean_faq_dataset.txt', 'r') as file:\n",
    "    DOCUMENT = file.read()"
   ]
  },
  {
   "cell_type": "code",
   "execution_count": 4,
   "metadata": {},
   "outputs": [
    {
     "name": "stdout",
     "output_type": "stream",
     "text": [
      "243454\n"
     ]
    }
   ],
   "source": [
    "# Print first 1000 characters of the document\n",
    "print(len(DOCUMENT))"
   ]
  },
  {
   "cell_type": "code",
   "execution_count": null,
   "metadata": {},
   "outputs": [],
   "source": [
    "import anthropic\n",
    "\n",
    "client = anthropic.Anthropic(\n",
    "    # defaults to os.environ.get(\"ANTHROPIC_API_KEY\")\n",
    "    api_key=anthropic_api_key,\n",
    ")\n",
    "\n",
    "# Replace placeholders like {{DOCUMENT}} with real values,\n",
    "# because the SDK does not support variables.\n",
    "message = client.messages.create(\n",
    "    model=\"claude-3-opus-20240229\",\n",
    "    max_tokens=4000,\n",
    "    temperature=0,\n",
    "    messages=[\n",
    "        {\n",
    "            \"role\": \"user\",\n",
    "            \"content\": [\n",
    "                {\n",
    "                    \"type\": \"text\",\n",
    "                    \"text\": \"I will provide you with a document containing question and answer pairs related to pediatric dentistry. Your task is to categorize these QA pairs into around 10 distinct topics. Here are the steps to follow:\\n\\n<document>\\n{{DOCUMENT}}\\n</document>\\n\\nFirst, carefully read through the entire document and identify the main topics covered by the question and answer pairs. Aim to come up with approximately 10 topics that effectively capture the key themes without too much overlap between topics. \\n\\nNext, go through the document again and categorize each question and answer pair under one and only one of the topics you identified. A given QA pair should not be repeated under multiple topics.\\n\\nFinally, output the categorized QA pairs with the following format:\\n\\n<topic>Topic 1 Name</topic>\\n<qa>\\nQ: Question 1 text \\nA: Answer 1 text\\n</qa>\\n<qa>\\nQ: Question 2 text\\nA: Answer 2 text \\n</qa>\\n\\n<topic>Topic 2 Name</topic>\\n<qa>\\nQ: Question 3 text\\nA: Answer 3 text\\n</qa>\\n\\nAnd so on for all 10 topics and all QA pairs. Make sure each QA pair is only listed once under its most relevant topic.\"\n",
    "                }\n",
    "            ]\n",
    "        }\n",
    "    ]\n",
    ")\n",
    "print(message.content)"
   ]
  },
  {
   "cell_type": "code",
   "execution_count": 6,
   "metadata": {},
   "outputs": [
    {
     "data": {
      "text/plain": [
       "'Here is my attempt at categorizing the pediatric dentistry QA pairs into 10 topics:\\n\\n<topic>Dental Visits and Checkups</topic>\\n<qa>\\nQ: When should I schedule my child\\'s first dental visit?\\nA: The American Academy of Pediatric Dentistry (AAPD) recommends that a child go to the dentist by age 1 or within six months after the first tooth erupts. Primary teeth typically begin growing in around 6 months of age.\\n</qa>\\n<qa>\\nQ: How often should a child see the dentist?\\nA: Children should visit the dentist every 6 months for regular dental cleanings and checkups. Some dentists may schedule interim visits for every 3 months when the child is very young to build up a comfort level or to treat a developing problem.\\n</qa>\\n\\n<topic>Teething and Tooth Eruption</topic>\\n<qa>\\nQ: Which teeth will my baby get first?\\nA: The two bottom front teeth (lower central incisors) are usually the first to appear, typically around 6 months of age. The two top front teeth (upper central incisors) usually come in shortly thereafter, between 6-8 months. The full set of 20 primary teeth are typically in by 3 years of age.\\n</qa>\\n<qa>\\nQ: What are the signs and symptoms of teething?\\nA: Teething can cause sore or tender gums, fussiness, irritability, disrupted sleep patterns, and excessive drooling. Some parents report that their teething babies have a mild temperature, although there is no scientific proof that teething causes fever. Diarrhea, rashes and a runny nose are not normal symptoms of teething. If your baby has a rectal temperature of 100.4°F or diarrhea, call your physician.\\n</qa>\\n\\n<topic>Brushing and Flossing</topic>\\n<qa>\\nQ: When should I start cleaning my baby\\'s teeth?\\nA: The sooner the better! Starting at birth, clean your child\\'s gums with a soft infant toothbrush and water. Remember that most small children do not have the dexterity to brush their teeth effectively. Unless it is advised by your child\\'s pediatric dentist, do not use fluoridated toothpaste until age 2-3.\\n</qa>\\n<qa>\\nQ: What type of toothbrush should my child use?\\nA: Look for toothbrushes with soft, rounded or \"polished\" bristles. This helps protect young teeth and gums. Choose a child-sized toothbrush with a small, rounded head for easier brushing. Replace toothbrushes every 3-4 months or sooner if the bristles are frayed. Worn toothbrushes won\\'t clean teeth properly. Children\\'s toothbrushes often have very cute designs on the handles. Let your child pick out his own toothbrush - it will make brushing more fun!\\n</qa>\\n\\n<topic>Fluoride and Dental Hygiene</topic>\\n<qa>\\nQ: What is fluoride and how does it help my child\\'s teeth?\\nA: Fluoride is a naturally occurring mineral that has been proven to prevent tooth decay and cavities. Fluoride helps by making teeth more resistant to acid attacks from plaque, bacteria and sugars. It also reverses early decay. Fluoride is especially important for children, because it becomes incorporated into the development of permanent teeth. This provides lifelong protection against cavities.\\n</qa>\\n<qa>\\nQ: How safe is fluoride for my child?\\nA: Fluoride is safe and effective when used as directed but can be hazardous at high doses (the \"toxic\" dosage level varies based on an individual\\'s weight). For this reason, it\\'s important for parents to carefully supervise their children\\'s use of fluoride-containing products and to keep fluoride products out of reach of children, especially children under the age of 6. In addition, excess fluoride can cause fluorosis, which is a chalky white to even brown discoloration of the permanent teeth. Fluorosis only occurs when the permanent teeth are developing, usually from birth to approximately 8 years of age. Properly trained dentists and physicians can prescribe fluoride in the correct dose for your child, so consult with your child\\'s dentist about your child\\'s fluoride needs.\\n</qa>\\n\\n<topic>Thumb Sucking and Pacifiers</topic>\\n<qa>\\nQ: Is thumb sucking bad for my child\\'s teeth?\\nA: Thumb and pacifier sucking habits that go on for a long period of time can create crowded, crooked teeth or bite problems. If they are still sucking their thumbs or fingers when the permanent teeth arrive, it can cause problems with tooth alignment and growth. The frequency, duration, and intensity of a habit will determine whether or not dental problems may result. Children who rest their thumbs passively in their mouths are less likely to have difficulty than those who vigorously suck their thumbs. If you are worried, talk to your pediatric dentist.\\n</qa>\\n<qa>\\nQ: When should my child stop using a pacifier?\\nA: The American Academy of Pediatric Dentistry recommends that children stop using pacifiers by age 3. However, there is no reason to worry about dental health as long as the pacifier habit stops before the permanent front teeth come in, usually around age 6. Continued pacifier use while the front adult teeth are coming in can cause an \"open bite,\" meaning the front teeth don\\'t meet when the child bites together. This is usually corrected when the pacifier habit stops.\\n</qa>\\n\\n<topic>Nutrition and Diet</topic>\\n<qa>\\nQ: What are \"baby bottle cavities\"?\\nA: Baby bottle tooth decay is a pattern of rapid decay associated with prolonged nursing or allowing a baby to fall asleep with a bottle of milk, formula, juice or other sweetened liquid in his or her mouth. The sugary liquids pool around the teeth, providing food for decay-causing bacteria. If left untreated, decayed teeth may need to be extracted, which can affect the development of permanent teeth.\\n</qa>\\n<qa>\\nQ: What should I do if my child has a toothache?\\nA: First, rinse the irritated area with warm salt water and place a cold compress on the face if it is swollen. Give the child acetaminophen for any pain, rather than placing aspirin on the teeth or gums. Finally, see a dentist as soon as possible.\\n</qa>\\n\\n<topic>Dental Injuries and Emergencies</topic>\\n<qa>\\nQ: What should I do if my child\\'s baby tooth is knocked out?\\nA: Contact your pediatric dentist as soon as possible. The baby tooth should not be replanted because of the potential for subsequent damage to the developing permanent tooth.\\n</qa>\\n<qa>\\nQ: What should I do if my child\\'s permanent tooth is knocked out?\\nA: Find the tooth and rinse it gently in cool water. (Do not scrub or clean it with soap -- use only water!) If possible, replace the tooth in the socket immediately and hold it there with clean gauze or a wash cloth. If you can\\'t put the tooth back in the socket, place the tooth in a clean container with cold milk, saliva or water. Get to the pediatric dental office immediately. (Call the emergency number if it\\'s after hours.) The faster you act, the better your chances of saving the tooth.\\n</qa>\\n\\n<topic>Dental Sealants</topic>\\n<qa>\\nQ: What are dental sealants and who should get them?\\nA: Sealants are a thin, plastic coating that are painted on the chewing surfaces of teeth -- usually the back teeth (the premolars, and molars) -- to prevent tooth decay. The painted on liquid sealant quickly bonds into the depressions and groves of the teeth forming a protective shield over the enamel of each tooth. Typically, children should get sealants on their permanent molars and premolars as soon as these teeth come in. In this way, the dental sealants can protect the teeth through the cavity-prone years of ages 6 to 14.\\n</qa>\\n\\n<topic>Orthodontics and Braces</topic>\\n<qa>\\nQ: When should my child get an orthodontic evaluation?\\nA: The American Association of Orthodontists recommends that your child get an orthodontic evaluation no later than age 7. Early evaluation provides both timely detection of problems and greater opportunity for more effective treatment. Prudent intervention guides growth and development, preventing serious problems later.\\n</qa>\\n<qa>\\nQ: What are space maintainers?\\nA: Space maintainers are appliances made of metal or plastic that are custom fit to your child\\'s mouth. They are small and unobtrusive in appearance. Most children easily adjust to them after the first few days. Space maintainers hold open the empty space left by a lost tooth. They steady the remaining teeth, preventing movement until the permanent tooth takes its natural position in the jaw. It is more affordable -- and easier on your child -- to keep teeth in normal positions with a space maintainer than to move them back in place with orthodontic treatment.\\n</qa>\\n\\n<topic>Dental X-Rays</topic>\\n<qa>\\nQ: Why does my child need X-rays?\\nA: Radiographs (X-rays) are a vital and necessary part of your child\\'s dental diagnostic process. Without them, certain dental conditions can and will be missed. X-rays detect much more than cavities. For example, X-rays may be needed to survey erupting teeth, diagnose bone diseases, evaluate the results of an injury, or plan orthodontic treatment. X-rays allow dentists to diagnose and treat health conditions that cannot be detected during a clinical examination. If dental problems are found and treated early, dental care is more comfortable for your child and more affordable for you.\\n</qa>\\n<qa>\\nQ: Are X-rays safe?\\nA: There is very little risk in dental X-rays. Pediatric dentists are especially careful to limit the amount of radiation to which children are exposed. Lead aprons and high-speed film are used to ensure safety and minimize the amount of radiation.\\n</qa>'"
      ]
     },
     "execution_count": 6,
     "metadata": {},
     "output_type": "execute_result"
    }
   ],
   "source": [
    "message.content[0].text"
   ]
  },
  {
   "cell_type": "code",
   "execution_count": 7,
   "metadata": {},
   "outputs": [],
   "source": [
    "questions = message.content[0].text"
   ]
  },
  {
   "cell_type": "code",
   "execution_count": 84,
   "metadata": {},
   "outputs": [
    {
     "name": "stdout",
     "output_type": "stream",
     "text": [
      "<class 'str'>\n"
     ]
    }
   ],
   "source": [
    "questions = message.content[0].text\n",
    "print(type(questions))"
   ]
  },
  {
   "cell_type": "code",
   "execution_count": 8,
   "metadata": {},
   "outputs": [
    {
     "name": "stdout",
     "output_type": "stream",
     "text": [
      "Here is my attempt at categorizing the pediatric dentistry QA pairs into 10 topics:\n",
      "\n",
      "<topic>Dental Visits and Checkups</topic>\n",
      "<qa>\n",
      "Q: When should I schedule my child's first dental visit?\n",
      "A: The American Academy of Pediatric Dentistry (AAPD) recommends that a child go to the dentist by age 1 or within six months after the first tooth erupts. Primary teeth typically begin growing in around 6 months of age.\n",
      "</qa>\n",
      "<qa>\n",
      "Q: How often should a child see the dentist?\n",
      "A: Children should visit the dentist every 6 months for regular dental cleanings and checkups. Some dentists may schedule interim visits for every 3 months when the child is very young to build up a comfort level or to treat a developing problem.\n",
      "</qa>\n",
      "\n",
      "<topic>Teething and Tooth Eruption</topic>\n",
      "<qa>\n",
      "Q: Which teeth will my baby get first?\n",
      "A: The two bottom front teeth (lower central incisors) are usually the first to appear, typically around 6 months of age. The two top front teeth (upper central incisors) usually come in shortly thereafter, between 6-8 months. The full set of 20 primary teeth are typically in by 3 years of age.\n",
      "</qa>\n",
      "<qa>\n",
      "Q: What are the signs and symptoms of teething?\n",
      "A: Teething can cause sore or tender gums, fussiness, irritability, disrupted sleep patterns, and excessive drooling. Some parents report that their teething babies have a mild temperature, although there is no scientific proof that teething causes fever. Diarrhea, rashes and a runny nose are not normal symptoms of teething. If your baby has a rectal temperature of 100.4°F or diarrhea, call your physician.\n",
      "</qa>\n",
      "\n",
      "<topic>Brushing and Flossing</topic>\n",
      "<qa>\n",
      "Q: When should I start cleaning my baby's teeth?\n",
      "A: The sooner the better! Starting at birth, clean your child's gums with a soft infant toothbrush and water. Remember that most small children do not have the dexterity to brush their teeth effectively. Unless it is advised by your child's pediatric dentist, do not use fluoridated toothpaste until age 2-3.\n",
      "</qa>\n",
      "<qa>\n",
      "Q: What type of toothbrush should my child use?\n",
      "A: Look for toothbrushes with soft, rounded or \"polished\" bristles. This helps protect young teeth and gums. Choose a child-sized toothbrush with a small, rounded head for easier brushing. Replace toothbrushes every 3-4 months or sooner if the bristles are frayed. Worn toothbrushes won't clean teeth properly. Children's toothbrushes often have very cute designs on the handles. Let your child pick out his own toothbrush - it will make brushing more fun!\n",
      "</qa>\n",
      "\n",
      "<topic>Fluoride and Dental Hygiene</topic>\n",
      "<qa>\n",
      "Q: What is fluoride and how does it help my child's teeth?\n",
      "A: Fluoride is a naturally occurring mineral that has been proven to prevent tooth decay and cavities. Fluoride helps by making teeth more resistant to acid attacks from plaque, bacteria and sugars. It also reverses early decay. Fluoride is especially important for children, because it becomes incorporated into the development of permanent teeth. This provides lifelong protection against cavities.\n",
      "</qa>\n",
      "<qa>\n",
      "Q: How safe is fluoride for my child?\n",
      "A: Fluoride is safe and effective when used as directed but can be hazardous at high doses (the \"toxic\" dosage level varies based on an individual's weight). For this reason, it's important for parents to carefully supervise their children's use of fluoride-containing products and to keep fluoride products out of reach of children, especially children under the age of 6. In addition, excess fluoride can cause fluorosis, which is a chalky white to even brown discoloration of the permanent teeth. Fluorosis only occurs when the permanent teeth are developing, usually from birth to approximately 8 years of age. Properly trained dentists and physicians can prescribe fluoride in the correct dose for your child, so consult with your child's dentist about your child's fluoride needs.\n",
      "</qa>\n",
      "\n",
      "<topic>Thumb Sucking and Pacifiers</topic>\n",
      "<qa>\n",
      "Q: Is thumb sucking bad for my child's teeth?\n",
      "A: Thumb and pacifier sucking habits that go on for a long period of time can create crowded, crooked teeth or bite problems. If they are still sucking their thumbs or fingers when the permanent teeth arrive, it can cause problems with tooth alignment and growth. The frequency, duration, and intensity of a habit will determine whether or not dental problems may result. Children who rest their thumbs passively in their mouths are less likely to have difficulty than those who vigorously suck their thumbs. If you are worried, talk to your pediatric dentist.\n",
      "</qa>\n",
      "<qa>\n",
      "Q: When should my child stop using a pacifier?\n",
      "A: The American Academy of Pediatric Dentistry recommends that children stop using pacifiers by age 3. However, there is no reason to worry about dental health as long as the pacifier habit stops before the permanent front teeth come in, usually around age 6. Continued pacifier use while the front adult teeth are coming in can cause an \"open bite,\" meaning the front teeth don't meet when the child bites together. This is usually corrected when the pacifier habit stops.\n",
      "</qa>\n",
      "\n",
      "<topic>Nutrition and Diet</topic>\n",
      "<qa>\n",
      "Q: What are \"baby bottle cavities\"?\n",
      "A: Baby bottle tooth decay is a pattern of rapid decay associated with prolonged nursing or allowing a baby to fall asleep with a bottle of milk, formula, juice or other sweetened liquid in his or her mouth. The sugary liquids pool around the teeth, providing food for decay-causing bacteria. If left untreated, decayed teeth may need to be extracted, which can affect the development of permanent teeth.\n",
      "</qa>\n",
      "<qa>\n",
      "Q: What should I do if my child has a toothache?\n",
      "A: First, rinse the irritated area with warm salt water and place a cold compress on the face if it is swollen. Give the child acetaminophen for any pain, rather than placing aspirin on the teeth or gums. Finally, see a dentist as soon as possible.\n",
      "</qa>\n",
      "\n",
      "<topic>Dental Injuries and Emergencies</topic>\n",
      "<qa>\n",
      "Q: What should I do if my child's baby tooth is knocked out?\n",
      "A: Contact your pediatric dentist as soon as possible. The baby tooth should not be replanted because of the potential for subsequent damage to the developing permanent tooth.\n",
      "</qa>\n",
      "<qa>\n",
      "Q: What should I do if my child's permanent tooth is knocked out?\n",
      "A: Find the tooth and rinse it gently in cool water. (Do not scrub or clean it with soap -- use only water!) If possible, replace the tooth in the socket immediately and hold it there with clean gauze or a wash cloth. If you can't put the tooth back in the socket, place the tooth in a clean container with cold milk, saliva or water. Get to the pediatric dental office immediately. (Call the emergency number if it's after hours.) The faster you act, the better your chances of saving the tooth.\n",
      "</qa>\n",
      "\n",
      "<topic>Dental Sealants</topic>\n",
      "<qa>\n",
      "Q: What are dental sealants and who should get them?\n",
      "A: Sealants are a thin, plastic coating that are painted on the chewing surfaces of teeth -- usually the back teeth (the premolars, and molars) -- to prevent tooth decay. The painted on liquid sealant quickly bonds into the depressions and groves of the teeth forming a protective shield over the enamel of each tooth. Typically, children should get sealants on their permanent molars and premolars as soon as these teeth come in. In this way, the dental sealants can protect the teeth through the cavity-prone years of ages 6 to 14.\n",
      "</qa>\n",
      "\n",
      "<topic>Orthodontics and Braces</topic>\n",
      "<qa>\n",
      "Q: When should my child get an orthodontic evaluation?\n",
      "A: The American Association of Orthodontists recommends that your child get an orthodontic evaluation no later than age 7. Early evaluation provides both timely detection of problems and greater opportunity for more effective treatment. Prudent intervention guides growth and development, preventing serious problems later.\n",
      "</qa>\n",
      "<qa>\n",
      "Q: What are space maintainers?\n",
      "A: Space maintainers are appliances made of metal or plastic that are custom fit to your child's mouth. They are small and unobtrusive in appearance. Most children easily adjust to them after the first few days. Space maintainers hold open the empty space left by a lost tooth. They steady the remaining teeth, preventing movement until the permanent tooth takes its natural position in the jaw. It is more affordable -- and easier on your child -- to keep teeth in normal positions with a space maintainer than to move them back in place with orthodontic treatment.\n",
      "</qa>\n",
      "\n",
      "<topic>Dental X-Rays</topic>\n",
      "<qa>\n",
      "Q: Why does my child need X-rays?\n",
      "A: Radiographs (X-rays) are a vital and necessary part of your child's dental diagnostic process. Without them, certain dental conditions can and will be missed. X-rays detect much more than cavities. For example, X-rays may be needed to survey erupting teeth, diagnose bone diseases, evaluate the results of an injury, or plan orthodontic treatment. X-rays allow dentists to diagnose and treat health conditions that cannot be detected during a clinical examination. If dental problems are found and treated early, dental care is more comfortable for your child and more affordable for you.\n",
      "</qa>\n",
      "<qa>\n",
      "Q: Are X-rays safe?\n",
      "A: There is very little risk in dental X-rays. Pediatric dentists are especially careful to limit the amount of radiation to which children are exposed. Lead aprons and high-speed film are used to ensure safety and minimize the amount of radiation.\n",
      "</qa>\n"
     ]
    }
   ],
   "source": [
    "print(questions)"
   ]
  },
  {
   "cell_type": "code",
   "execution_count": 10,
   "metadata": {},
   "outputs": [],
   "source": [
    "import re\n",
    "import os\n",
    "\n",
    "def parse_excerpt(excerpt, folder_path):\n",
    "    # Split the excerpt into topics\n",
    "    topics = re.split(r'(?=<topic>)', excerpt)\n",
    "    \n",
    "    for topic in topics:\n",
    "        # Extract the topic name\n",
    "        topic_match = re.search(r'<topic>(.*?)</topic>', topic, re.DOTALL)\n",
    "        if topic_match:\n",
    "            topic_name = topic_match.group(1).strip()\n",
    "            # Replace special characters in the topic name\n",
    "            topic_name = re.sub(r'[^a-zA-Z0-9\\s]', '_', topic_name)\n",
    "            \n",
    "            # Create the folder if it doesn't exist\n",
    "            os.makedirs(folder_path, exist_ok=True)\n",
    "            \n",
    "            # Create the file path\n",
    "            file_path = os.path.join(folder_path, f\"{topic_name}.txt\")\n",
    "            \n",
    "            # Extract the Q&A pairs\n",
    "            qa_pairs = re.findall(r'<qa>\\s*Q:(.*?)\\s*A:(.*?)</qa>', topic, re.DOTALL)\n",
    "            \n",
    "            # Create a new file for the topic and write the Q&A pairs\n",
    "            with open(file_path, 'w') as file:\n",
    "                file.write(f\"Topic: {topic_name}\\n\\n\")\n",
    "                for qa_pair in qa_pairs:\n",
    "                    question, answer = qa_pair\n",
    "                    file.write(f\"Q: {question.strip()}\\nA: {answer.strip()}\\n\\n\")"
   ]
  },
  {
   "cell_type": "code",
   "execution_count": 11,
   "metadata": {},
   "outputs": [],
   "source": [
    "folder_path = \"/Users/acrobat/Documents/GitHub/extract_html/data_cleaned_faq_by_topic\"\n",
    "parse_excerpt(questions, folder_path)"
   ]
  },
  {
   "cell_type": "markdown",
   "metadata": {},
   "source": [
    "#### Summary - I had great plans to do this using Claude API but max token size output size is set at 4000. I would have to feed the info one by one. I dont want to do that since I wan LLM to consider the entire document. So moved to OpenAI and did it via ChatGPT screen one by one. Bit also did not work. It will only process 16 questions or so at a time. Total FAILURE!!!! Anthropic wont work, OpenAi also wont work. \n",
    "\n",
    "\n",
    "I want to group 750 Q&A pairs into 20 groups. Okay different approach. lets start with cheese and go to the mouse. My goal is to add these seprately into Voiceflow and chunk them in by topic. The default size for Voiceflow chunking is set at 1000 tokens. Range is 500 - 1500 tokens. I used tiktopken and calculated that about 1000 tokens is 14 questions and answer pair. I think this is good number - 14 because it is for 1000 tokens. What if I split my ~750 questions into 14 question docs. Actually for ease of calculation 15 question chuncks. \n",
    "Then I provide Claude the 20 topics I geenrated. then I can ask for each document place them into a topic for me. for each topic I will have a document under my folder. As Claude analyzes each question it will drop them into relevant document. "
   ]
  },
  {
   "cell_type": "code",
   "execution_count": null,
   "metadata": {},
   "outputs": [],
   "source": [
    "from dotenv import load_dotenv\n",
    "import os\n",
    "\n",
    "# Load the environment variables from the .env file\n",
    "load_dotenv()\n",
    "\n",
    "# Get the Claude API key from the environment variables\n",
    "anthropic_api_key = os.getenv(\"ANTHROPIC_API_KEY\")"
   ]
  },
  {
   "cell_type": "code",
   "execution_count": null,
   "metadata": {},
   "outputs": [],
   "source": [
    "# read the clean_faq_dataset.txt file and store content in a variable called DOCUMENT\n",
    "with open('/Users/acrobat/Documents/GitHub/extract_html/clean_faq_dataset.txt', 'r') as file:\n",
    "    DOCUMENT = file.read()"
   ]
  },
  {
   "cell_type": "markdown",
   "metadata": {},
   "source": [
    "- Topic 1: Preventive Care and Check-ups ~\t44\n",
    "- Topic 2: Tooth Decay and Cavities\t65\n",
    "- Topic 3: Dental Procedures and Treatments\t51\n",
    "- Topic 4: Oral Hygiene Practices\t62\n",
    "- Topic 5: Diet and Nutrition's Impact\t47\n",
    "- Topic 6: Infant Dental Care\t87\n",
    "- Topic 7: Early Childhood Oral Health\t78\n",
    "- Topic 8: Orthodontics and Teeth Alignment\t29\n",
    "- Topic 9: Pediatric Dentistry\t31\n",
    "- Topic 10: Dental Emergencies\t22\n",
    "- Topic 11: Dental Anxiety and Comfort\t34\n",
    "- Topic 12: Special Needs Dentistry\t18\n",
    "- Topic 13: Oral Health Education\t24\n",
    "- Topic 14: Cultural and Historical Perspectives\t14\n",
    "- Topic 15: Parental Guidance and Involvement\t43\n",
    "- Topic 16: Dental Health Milestones\t21\n",
    "- Topic 17: Symptoms and Diagnosis\t37\n",
    "- Topic 18: Dental Innovations and Research\t15\n",
    "- Topic 19: Public Health and Dental Policies\t12\n",
    "- Topic 20: Miscellaneous"
   ]
  },
  {
   "cell_type": "markdown",
   "metadata": {},
   "source": [
    "- Topic 1: Preventive Care and Check-ups\n",
    "- Topic 2: Tooth Decay and Cavities\t\n",
    "- Topic 3: Dental Procedures and Treatments\t\n",
    "- Topic 4: Oral Hygiene Practices\t\n",
    "- Topic 5: Diet and Nutrition's Impact\t\n",
    "- Topic 6: Infant Dental Care\t\n",
    "- Topic 7: Early Childhood Oral Health\t\n",
    "- Topic 8: Orthodontics and Teeth Alignment\t\n",
    "- Topic 9: Pediatric Dentistry\t\n",
    "- Topic 10: Dental Emergencies\t\n",
    "- Topic 11: Dental Anxiety and Comfort\t\n",
    "- Topic 12: Special Needs Dentistry\t\n",
    "- Topic 13: Oral Health Education\t\n",
    "- Topic 14: Cultural and Historical Perspectives\t\n",
    "- Topic 15: Parental Guidance and Involvement\t\n",
    "- Topic 16: Dental Health Milestones\t\n",
    "- Topic 17: Symptoms and Diagnosis\t\n",
    "- Topic 18: Dental Innovations and Research\t\n",
    "- Topic 19: Public Health and Dental Policies\t\n",
    "- Topic 20: Miscellaneous"
   ]
  },
  {
   "cell_type": "code",
   "execution_count": 13,
   "metadata": {},
   "outputs": [],
   "source": [
    "# Split the document into 15 questions documements.\n",
    "def split_qa_document(filepath, output_dir, qa_per_file=15):\n",
    "    \"\"\"\n",
    "    Splits a large document containing Q&A pairs into multiple smaller documents,\n",
    "    each containing a specified number of Q&A pairs.\n",
    "\n",
    "    Args:\n",
    "    - filepath (str): Path to the input file containing the Q&A pairs.\n",
    "    - output_dir (str): Directory to save the output files.\n",
    "    - qa_per_file (int): Number of Q&A pairs per output file.\n",
    "    \"\"\"\n",
    "    import os\n",
    "\n",
    "    # Create the output directory if it doesn't exist\n",
    "    if not os.path.exists(output_dir):\n",
    "        os.makedirs(output_dir)\n",
    "\n",
    "    with open(filepath, 'r', encoding='utf-8') as file:\n",
    "        lines = file.readlines()\n",
    "\n",
    "    # Initialize variables to store Q&A pairs and manage file writing\n",
    "    qa_count = 0\n",
    "    file_index = 1\n",
    "    qa_pairs = []\n",
    "\n",
    "    # Process each line in the input file\n",
    "    for line in lines:\n",
    "        if line.strip():  # If line is not empty\n",
    "            qa_pairs.append(line)\n",
    "        else:  # Empty line indicates the end of a Q&A pair\n",
    "            qa_count += 1\n",
    "            if qa_count == qa_per_file:  # Check if current document has enough Q&A pairs\n",
    "                # Write the current set of Q&A pairs to a file\n",
    "                output_filepath = os.path.join(output_dir, f\"qa_part_{file_index}.txt\")\n",
    "                with open(output_filepath, 'w', encoding='utf-8') as output_file:\n",
    "                    output_file.writelines(qa_pairs)\n",
    "                # Reset for the next file\n",
    "                qa_pairs = []\n",
    "                qa_count = 0\n",
    "                file_index += 1\n",
    "\n",
    "    # Check if there are any remaining Q&A pairs to write after the last full set\n",
    "    if qa_pairs:\n",
    "        output_filepath = os.path.join(output_dir, f\"qa_part_{file_index}.txt\")\n",
    "        with open(output_filepath, 'w', encoding='utf-8') as output_file:\n",
    "            output_file.writelines(qa_pairs)\n",
    "\n",
    "\n"
   ]
  },
  {
   "cell_type": "code",
   "execution_count": 14,
   "metadata": {},
   "outputs": [],
   "source": [
    "split_qa_document('/Users/acrobat/Documents/GitHub/extract_html/clean_faq_dataset.txt', '/Users/acrobat/Documents/GitHub/extract_html/data_cleaned_faq_by_topic/raw_split_docs')\n",
    "#done! in data_cleaned_faq_by_topic/raw_split_docs/qa_part_1.txt"
   ]
  },
  {
   "cell_type": "code",
   "execution_count": 17,
   "metadata": {},
   "outputs": [],
   "source": [
    "# read the clean_faq_dataset.txt file and store content in a variable called DOCUMENT\n",
    "with open('data_cleaned_faq_by_topic/raw_split_docs/qa_part_1.txt', 'r') as file:\n",
    "    DOCUMENT = file.read()"
   ]
  },
  {
   "cell_type": "code",
   "execution_count": 18,
   "metadata": {},
   "outputs": [
    {
     "data": {
      "text/plain": [
       "4725"
      ]
     },
     "execution_count": 18,
     "metadata": {},
     "output_type": "execute_result"
    }
   ],
   "source": [
    "len(DOCUMENT)"
   ]
  },
  {
   "cell_type": "code",
   "execution_count": 25,
   "metadata": {},
   "outputs": [
    {
     "name": "stdout",
     "output_type": "stream",
     "text": [
      "DOCUMENT content:\n",
      "Question: What are common causes of snoring in children?\n",
      "Answer: Common causes of snoring in children include large tonsils or adenoids, allergies, asthma, a deviated septum, throat infections, and sleep apnea.\n",
      "Question: When should parents be concerned about their child's snoring?\n",
      "Answer: Parents should seek medical advice if their child's snoring is very loud, occurs most nights, involves gasping, pausing while sleeping, or if the child sleeps with an extended neck or open mouth.\n",
      "Question: What is laryngomalacia, and how does it affect newborns?\n",
      "Answer: Laryngomalacia is a condition where the baby's voice box collapses when they breathe in, causing noisy breathing or stridor. Symptoms include inward chest pulling, difficulty feeding, poor weight gain, periodic breathing stops, and cyanosis. It often resolves by 20 months of age but requires medical evaluation.\n",
      "Question: How can parents differentiate between normal newborn snoring and laryngomalacia?\n",
      "Answer: Normal newborn snoring occasionally may not be a concern, but signs of laryngomalacia include noisy breathing that worsens with crying or back sleeping, difficulty feeding, poor weight gain, and periods of apnea. These symptoms necessitate a medical consultation.\n",
      "Question: What steps should parents take if they suspect their child has obstructive sleep apnea?\n",
      "Answer: Parents should monitor for symptoms like loud snoring, frequent snoring, sleeping with the neck extended and mouth open, and gasping or pausing during sleep. If these signs are present, consulting a pediatrician is crucial for diagnosis and management. \n",
      "Question: At what point should snoring in children be addressed with a healthcare provider?\n",
      "Answer: Snoring in children should be discussed with a healthcare provider when it is frequent, loud, associated with other symptoms like gasping or apnea, or affects the child’s quality of sleep.\n",
      "Question: Can the use of pacifiers lead to dental problems in children?\n",
      "Answer: Yes, excessive use of pacifiers can cause abnormal tooth development, affect the growth of the mouth, and misalign the teeth. It can also alter the shape of the roof of the mouth if used extensively, particularly in children older than two years.\n",
      "Question: What are the benefits of using a pacifier for infants?\n",
      "Answer: Pacifiers can soothe a crying infant, reduce pain during nursing, decrease the risk of sudden infant death syndrome (SIDS), and are particularly beneficial for premature infants in intensive care, helping shorten hospital stays and aiding in bottle feeding.\n",
      "Question: Are there any risks associated with pacifier use beyond dental issues?\n",
      "Answer: Beyond dental issues, pacifiers can increase the risk of ear infections and can interfere with breastfeeding. It is recommended to introduce a pacifier only after the baby is comfortably breastfeeding.\n",
      "Question: How can parents minimize the dental risks associated with pacifiers?\n",
      "Answer: Parents can minimize dental risks by monitoring the intensity of sucking—passive placement in the mouth is less harmful than vigorous sucking. It is also important to use one-piece pacifiers without removable parts or liquid interiors, keep them clean, and avoid dipping them in sweet liquids.\n",
      "Question: When should a child ideally stop using a pacifier to avoid dental issues?\n",
      "Answer: Children should ideally stop using a pacifier between the ages of two and four, before the permanent teeth are ready to erupt, to avoid long-term dental issues.\n",
      "Question: What steps can parents take if they are concerned about their child's pacifier use?\n",
      "Answer: If parents notice changes in their child's primary teeth or are concerned about the pacifier use, they should consult a pediatric dentist. A dentist may recommend a mouth appliance to help break the habit and provide guidance on reducing pacifier dependence.\n",
      "Question: What are the differences between orthodontic and non-orthodontic pacifiers?\n",
      "Answer: Orthodontic pacifiers have a flatter and squarer shape designed to mimic the mother's nipple during nursing and accommodate the baby's tongue movement naturally. Non-orthodontic pacifiers have a rounded, bulb-like shape. \n",
      "Question: What are the potential benefits of using an orthodontic pacifier?\n",
      "Answer: Orthodontic pacifiers may reduce the risk of malocclusion (bite issues) in babies and are less likely to encourage poor oral health habits such as thumb-sucking if introduced before the age of 3 months.\n",
      "Question: Are there any health risks associated with using pacifiers or thumb-sucking?\n",
      "Answer: Both pacifiers and thumb-sucking carry some risks. Using a pacifier slightly increases the risk of ear infections in young children. Thumb-sucking beyond the age of 4 can lead to dental problems.\n",
      "\n"
     ]
    }
   ],
   "source": [
    "print(\"DOCUMENT content:\")\n",
    "print(DOCUMENT)"
   ]
  },
  {
   "cell_type": "code",
   "execution_count": 63,
   "metadata": {},
   "outputs": [
    {
     "name": "stdout",
     "output_type": "stream",
     "text": [
      "[TextBlock(text=\"Here is the document with the QA pairs categorized into relevant topics:\\n\\n<topic>Oral Hygiene Practices</topic>\\n<qa>\\nQ: How can parents ensure their child develops good oral hygiene habits?\\nA: Parents can ensure good oral hygiene by cleaning their baby's mouth after each feeding, supervising and assisting older children with brushing using fluoride toothpaste, and instilling healthy dietary habits.\\n</qa>\\n<qa>\\nQ: When is the right time to start using fluoridated toothpaste for a child, and why?\\nA: Parents should start using fluoridated toothpaste when the child is at least 2 years old to avoid fluorosis, which can cause tooth discoloration and damage.\\n</qa>\\n\\n<topic>Tooth Decay and Cavities</topic>\\n<qa>\\nQ: What should parents do if they suspect their child has Baby Bottle Tooth Decay?\\nA: If parents suspect Baby Bottle Tooth Decay, they should immediately consult with a pediatric dentist to assess the severity of the decay and discuss appropriate treatment options to prevent further damage.\\n</qa>\\n\\n<topic>Preventive Care and Check-ups</topic>\\n<qa>\\nQ: Why is it important to take a child to the dentist at an early age?\\nA: Early dental visits are crucial because they help catch conditions like tooth decay early on, ensuring effective treatment and setting up a foundation for a healthy smile throughout life.\\n</qa>\\n<qa>\\nQ: How often should children visit the dentist?\\nA: Most dental professionals recommend that children visit the dentist at least twice a year, though specific recommendations may vary based on individual needs as assessed by the pediatric dentist.\\n</qa>\\n\\n<topic>Pediatric Dentistry</topic>\\n<qa>\\nQ: What are the benefits of choosing a pediatric dentist for your child?\\nA: Pediatric dentists specialize in treating young children and use child-friendly equipment and decor to make dental visits less intimidating and more enjoyable, encouraging regular dental checkups.\\n</qa>\\n\\n<topic>Infant Dental Care</topic>\\n<qa>\\nQ: How should parents prepare their baby for the first dentist visit?\\nA: Parents can prepare their baby by gently cleaning their gums before teeth emerge, showing them videos of dental visits, completing paperwork in advance, and preparing a list of oral hygiene questions to ask the dentist.\\n</qa>\\n<qa>\\nQ: What should parents expect during their baby's first dental visit?\\nA: During the first visit, the dentist will perform a routine examination of the baby's teeth, gums, and bite, clean their teeth and gums, and provide guidance on proper oral care. The visit aims to be comfortable, possibly involving the baby sitting on the parent's lap if necessary.\\n</qa>\\n\\n<topic>Symptoms and Diagnosis</topic>\\n<qa>\\nQ: What are the symptoms of herpangina in children?\\nA: Symptoms of herpangina include painful, red bumps or blisters in the mouth, headache, fever, sore throat, and loss of appetite. These sores can make swallowing very painful.\\n</qa>\\n<qa>\\nQ: How is herpangina diagnosed and treated in children?\\nA: Herpangina is typically diagnosed by a healthcare professional and is considered a mild viral condition with no specific treatment. Management focuses on symptom relief, such as using pain relievers like ibuprofen or acetaminophen, consuming cold fluids or bland foods, and gargling with cool water.\\n</qa>\\n\\n<topic>Dental Emergencies</topic>\\n<qa>\\nQ: What are some effective ways to relieve the discomfort caused by herpangina?\\nA: To relieve discomfort from herpangina, you can give your child pain and fever reducers, encourage the intake of cold fluids or sugar-free ice pops, provide a bland diet, and have them gargle with cool water. Maintaining oral hygiene, even when sick, is also crucial.\\n</qa>\\n<qa>\\nQ: Is herpangina contagious and what precautions should be taken?\\nA: Yes, herpangina is highly contagious. It's important to practice good hand hygiene, disinfect surfaces that the infected child has touched, and keep the child isolated at home, away from school or daycare, until they have fully recovered to prevent spreading the virus to others.\\n</qa>\\n<qa>\\nQ: When should a child with herpangina see a dentist?\\nA: While herpangina mainly requires medical diagnosis and care, consult a dentist if mouth sores severely impact the child's oral hygiene or if advice is needed on suitable oral care products during illness, such as age-appropriate mouthwash to soothe mouth irritations.\\n</qa>\\n\\n<topic>Dental Procedures and Treatments</topic>\\n<qa>\\nQ: What is silver diamine fluoride (SDF) and why is it used in dentistry?\\nA: Silver diamine fluoride (SDF) is a dental treatment that uses a silver fluoride salt solution to stop tooth decay without drilling or anesthesia. It is used to harden the tooth surface, prevent further decay, and is especially beneficial in pediatrics, for the elderly, and individuals with difficulty undergoing traditional dental treatments.\\n</qa>\\n<qa>\\nQ: When was silver diamine fluoride approved by the FDA and for what purpose?\\nA: The FDA approved silver diamine fluoride in 2014 for treating dentinal hypersensitivity. It was later recommended by the American Dental Association in 2020 to arrest caries in both permanent and primary teeth.\\n</qa>\", type='text')]\n"
     ]
    }
   ],
   "source": [
    "import anthropic\n",
    "\n",
    "client = anthropic.Anthropic(\n",
    "    # defaults to os.environ.get(\"ANTHROPIC_API_KEY\")\n",
    "    api_key=anthropic_api_key,\n",
    ")\n",
    "\n",
    "# Read the clean_faq_dataset.txt file and store content in a variable called DOCUMENT\n",
    "with open('data_cleaned_faq_by_topic/raw_split_docs/qa_part_10.txt', 'r') as file:\n",
    "    DOCUMENT = file.read()\n",
    "\n",
    "# Use the DOCUMENT variable directly in the message content\n",
    "message_content = f\"\"\"\n",
    "You will be provided with a document containing question and answer pairs related to pediatric dentistry. Your task is to categorize these QA pairs into the following 20 distinct topics:\n",
    "\n",
    "- Topic 1: Preventive Care and Check-ups\n",
    "- Topic 2: Tooth Decay and Cavities\n",
    "- Topic 3: Dental Procedures and Treatments\n",
    "- Topic 4: Oral Hygiene Practices\n",
    "- Topic 5: Diet and Nutrition's Impact\n",
    "- Topic 6: Infant Dental Care\n",
    "- Topic 7: Early Childhood Oral Health\n",
    "- Topic 8: Orthodontics and Teeth Alignment\n",
    "- Topic 9: Pediatric Dentistry\n",
    "- Topic 10: Dental Emergencies\n",
    "- Topic 11: Dental Anxiety and Comfort\n",
    "- Topic 12: Special Needs Dentistry\n",
    "- Topic 13: Oral Health Education\n",
    "- Topic 14: Cultural and Historical Perspectives\n",
    "- Topic 15: Parental Guidance and Involvement\n",
    "- Topic 16: Dental Health Milestones\n",
    "- Topic 17: Symptoms and Diagnosis\n",
    "- Topic 18: Dental Innovations and Research\n",
    "- Topic 19: Public Health and Dental Policies\n",
    "- Topic 20: Miscellaneous\n",
    "\n",
    "Here is the document containing the QA pairs:\n",
    "\n",
    "<document>\n",
    "{DOCUMENT}\n",
    "</document>\n",
    "\n",
    "First, carefully read through the entire document and identify the main topics covered by the question and answer pairs. Aim to place each question and answer pair into the topic that most effectively categorizes it. \n",
    "\n",
    "Note that a given QA pair should not be repeated under multiple topics. Each QA pair should only be listed once, under its most relevant topic.\n",
    "\n",
    "Once you have categorized all the QA pairs, output them using the following format:\n",
    "\n",
    "<topic>Topic 1 Name</topic>\n",
    "<qa>\n",
    "Q: Question 1 text\n",
    "A: Answer 1 text\n",
    "</qa>\n",
    "<qa>\n",
    "Q: Question 2 text\n",
    "A: Answer 2 text \n",
    "</qa>\n",
    "\n",
    "<topic>Topic 2 Name</topic>\n",
    "<qa>\n",
    "Q: Question 3 text\n",
    "A: Answer 3 text\n",
    "</qa>\n",
    "\n",
    "And so on for all 20 topics and all QA pairs. Make sure each QA pair is only listed once under its most relevant topic. Do not return Topic 1, Topic 2, etc., as the topic names. Instead, provide the actual names of the topics that you have identified.\n",
    "\"\"\"\n",
    "\n",
    "message = client.messages.create(\n",
    "    model=\"claude-3-opus-20240229\",\n",
    "    max_tokens=4000,\n",
    "    temperature=0,\n",
    "    messages=[\n",
    "        {\n",
    "            \"role\": \"user\",\n",
    "            \"content\": [\n",
    "                {\n",
    "                    \"type\": \"text\",\n",
    "                    \"text\": message_content\n",
    "                }\n",
    "            ]\n",
    "        }\n",
    "    ]\n",
    ")\n",
    "\n",
    "print(message.content)"
   ]
  },
  {
   "cell_type": "code",
   "execution_count": 64,
   "metadata": {},
   "outputs": [
    {
     "name": "stdout",
     "output_type": "stream",
     "text": [
      "[\"Oral Hygiene Practices</topic>\\n<qa>\\nQ: How can parents ensure their child develops good oral hygiene habits?\\nA: Parents can ensure good oral hygiene by cleaning their baby's mouth after each feeding, supervising and assisting older children with brushing using fluoride toothpaste, and instilling healthy dietary habits.\\n</qa>\\n<qa>\\nQ: When is the right time to start using fluoridated toothpaste for a child, and why?\\nA: Parents should start using fluoridated toothpaste when the child is at least 2 years old to avoid fluorosis, which can cause tooth discoloration and damage.\\n</qa>\\n\\n\", 'Tooth Decay and Cavities</topic>\\n<qa>\\nQ: What should parents do if they suspect their child has Baby Bottle Tooth Decay?\\nA: If parents suspect Baby Bottle Tooth Decay, they should immediately consult with a pediatric dentist to assess the severity of the decay and discuss appropriate treatment options to prevent further damage.\\n</qa>\\n\\n', 'Preventive Care and Check-ups</topic>\\n<qa>\\nQ: Why is it important to take a child to the dentist at an early age?\\nA: Early dental visits are crucial because they help catch conditions like tooth decay early on, ensuring effective treatment and setting up a foundation for a healthy smile throughout life.\\n</qa>\\n<qa>\\nQ: How often should children visit the dentist?\\nA: Most dental professionals recommend that children visit the dentist at least twice a year, though specific recommendations may vary based on individual needs as assessed by the pediatric dentist.\\n</qa>\\n\\n', 'Pediatric Dentistry</topic>\\n<qa>\\nQ: What are the benefits of choosing a pediatric dentist for your child?\\nA: Pediatric dentists specialize in treating young children and use child-friendly equipment and decor to make dental visits less intimidating and more enjoyable, encouraging regular dental checkups.\\n</qa>\\n\\n', \"Infant Dental Care</topic>\\n<qa>\\nQ: How should parents prepare their baby for the first dentist visit?\\nA: Parents can prepare their baby by gently cleaning their gums before teeth emerge, showing them videos of dental visits, completing paperwork in advance, and preparing a list of oral hygiene questions to ask the dentist.\\n</qa>\\n<qa>\\nQ: What should parents expect during their baby's first dental visit?\\nA: During the first visit, the dentist will perform a routine examination of the baby's teeth, gums, and bite, clean their teeth and gums, and provide guidance on proper oral care. The visit aims to be comfortable, possibly involving the baby sitting on the parent's lap if necessary.\\n</qa>\\n\\n\", 'Symptoms and Diagnosis</topic>\\n<qa>\\nQ: What are the symptoms of herpangina in children?\\nA: Symptoms of herpangina include painful, red bumps or blisters in the mouth, headache, fever, sore throat, and loss of appetite. These sores can make swallowing very painful.\\n</qa>\\n<qa>\\nQ: How is herpangina diagnosed and treated in children?\\nA: Herpangina is typically diagnosed by a healthcare professional and is considered a mild viral condition with no specific treatment. Management focuses on symptom relief, such as using pain relievers like ibuprofen or acetaminophen, consuming cold fluids or bland foods, and gargling with cool water.\\n</qa>\\n\\n', \"Dental Emergencies</topic>\\n<qa>\\nQ: What are some effective ways to relieve the discomfort caused by herpangina?\\nA: To relieve discomfort from herpangina, you can give your child pain and fever reducers, encourage the intake of cold fluids or sugar-free ice pops, provide a bland diet, and have them gargle with cool water. Maintaining oral hygiene, even when sick, is also crucial.\\n</qa>\\n<qa>\\nQ: Is herpangina contagious and what precautions should be taken?\\nA: Yes, herpangina is highly contagious. It's important to practice good hand hygiene, disinfect surfaces that the infected child has touched, and keep the child isolated at home, away from school or daycare, until they have fully recovered to prevent spreading the virus to others.\\n</qa>\\n<qa>\\nQ: When should a child with herpangina see a dentist?\\nA: While herpangina mainly requires medical diagnosis and care, consult a dentist if mouth sores severely impact the child's oral hygiene or if advice is needed on suitable oral care products during illness, such as age-appropriate mouthwash to soothe mouth irritations.\\n</qa>\\n\\n\", 'Dental Procedures and Treatments</topic>\\n<qa>\\nQ: What is silver diamine fluoride (SDF) and why is it used in dentistry?\\nA: Silver diamine fluoride (SDF) is a dental treatment that uses a silver fluoride salt solution to stop tooth decay without drilling or anesthesia. It is used to harden the tooth surface, prevent further decay, and is especially beneficial in pediatrics, for the elderly, and individuals with difficulty undergoing traditional dental treatments.\\n</qa>\\n<qa>\\nQ: When was silver diamine fluoride approved by the FDA and for what purpose?\\nA: The FDA approved silver diamine fluoride in 2014 for treating dentinal hypersensitivity. It was later recommended by the American Dental Association in 2020 to arrest caries in both permanent and primary teeth.\\n</qa>']\n"
     ]
    }
   ],
   "source": [
    "# Split the response into topics and QA pairs\n",
    "topics = message.content[0].text.split(\"<topic>\")[1:]\n",
    "print(topics)"
   ]
  },
  {
   "cell_type": "code",
   "execution_count": 65,
   "metadata": {},
   "outputs": [
    {
     "name": "stdout",
     "output_type": "stream",
     "text": [
      "QA pairs have been written to topic files.\n"
     ]
    }
   ],
   "source": [
    "import os\n",
    "\n",
    "# Define the base directory for saving the topic files\n",
    "base_dir = \"/Users/acrobat/Documents/GitHub/extract_html/data_cleaned_faq_by_topic/topics\"\n",
    "\n",
    "# Split the response into topics and QA pairs\n",
    "topics = message.content[0].text.split(\"<topic>\")[1:]\n",
    "\n",
    "for topic in topics:\n",
    "    topic_name, qa_pairs = topic.split(\"</topic>\")\n",
    "    topic_name = topic_name.strip().replace(\" \", \"_\")\n",
    "    \n",
    "    # Create the file path for the topic\n",
    "    file_path = os.path.join(base_dir, f\"{topic_name}.txt\")\n",
    "    \n",
    "    # Remove the <qa> and </qa> tags from the QA pairs\n",
    "    qa_pairs_cleaned = qa_pairs.replace(\"<qa>\\n\", \"\").replace(\"</qa>\", \"\")\n",
    "    \n",
    "    # Write the cleaned QA pairs to the topic file\n",
    "    with open(file_path, \"a\") as file:\n",
    "        file.write(qa_pairs_cleaned.strip() + \"\\n\\n\")  # Add a newline for spacing between entries\n",
    "\n",
    "print(\"QA pairs have been written to topic files.\")\n"
   ]
  },
  {
   "cell_type": "markdown",
   "metadata": {},
   "source": [
    "### Summary: \n",
    "- Updates to Claude prompt were required. For example after 7th txt file it started to ptoduce Topic 1, topic 2, etc instead of just returning the topic name so I added; \"Do not return Topic 1, Topic 2, etc., as the topic names. Instead, provide the actual names of the topics that you have identified.\" There were also issues with new lines and spaces that took a few tries to fix. Hence the print outs each step.\n",
    "- Another issue was reading the DOCUMENT. Claude SDK does not read the variables so the following line was added to the same cell to work: # Read the clean_faq_dataset.txt file and store content in a variable called DOCUMENT\n",
    "with open('data_cleaned_faq_by_topic/raw_split_docs/qa_part_9.txt', 'r') as file:\n",
    "    DOCUMENT = file.read()\n",
    "- ANothe rimprovement to this notebook would be to write a .py file and feed each one of the raw txt files one by one. I did not spend time with this because I wanted to review each block before I moed into their category txt file. \n",
    "\n",
    "- I did document 10 - need to continue after 10 with 11. "
   ]
  }
 ],
 "metadata": {
  "kernelspec": {
   "display_name": "extract_html",
   "language": "python",
   "name": "python3"
  },
  "language_info": {
   "codemirror_mode": {
    "name": "ipython",
    "version": 3
   },
   "file_extension": ".py",
   "mimetype": "text/x-python",
   "name": "python",
   "nbconvert_exporter": "python",
   "pygments_lexer": "ipython3",
   "version": "3.11.6"
  }
 },
 "nbformat": 4,
 "nbformat_minor": 2
}
