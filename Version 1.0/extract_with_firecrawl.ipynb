{
 "cells": [
  {
   "cell_type": "code",
   "execution_count": 1,
   "metadata": {},
   "outputs": [
    {
     "name": "stdout",
     "output_type": "stream",
     "text": [
      "Requirement already satisfied: firecrawl-py in /Users/acrobat/Documents/GitHub/extract_html/extract_html/lib/python3.11/site-packages (0.0.14)\n",
      "Requirement already satisfied: requests in /Users/acrobat/Documents/GitHub/extract_html/extract_html/lib/python3.11/site-packages (from firecrawl-py) (2.31.0)\n",
      "Requirement already satisfied: charset-normalizer<4,>=2 in /Users/acrobat/Documents/GitHub/extract_html/extract_html/lib/python3.11/site-packages (from requests->firecrawl-py) (3.3.2)\n",
      "Requirement already satisfied: idna<4,>=2.5 in /Users/acrobat/Documents/GitHub/extract_html/extract_html/lib/python3.11/site-packages (from requests->firecrawl-py) (3.7)\n",
      "Requirement already satisfied: urllib3<3,>=1.21.1 in /Users/acrobat/Documents/GitHub/extract_html/extract_html/lib/python3.11/site-packages (from requests->firecrawl-py) (2.2.1)\n",
      "Requirement already satisfied: certifi>=2017.4.17 in /Users/acrobat/Documents/GitHub/extract_html/extract_html/lib/python3.11/site-packages (from requests->firecrawl-py) (2024.2.2)\n",
      "\n",
      "\u001b[1m[\u001b[0m\u001b[34;49mnotice\u001b[0m\u001b[1;39;49m]\u001b[0m\u001b[39;49m A new release of pip is available: \u001b[0m\u001b[31;49m24.0\u001b[0m\u001b[39;49m -> \u001b[0m\u001b[32;49m24.1.2\u001b[0m\n",
      "\u001b[1m[\u001b[0m\u001b[34;49mnotice\u001b[0m\u001b[1;39;49m]\u001b[0m\u001b[39;49m To update, run: \u001b[0m\u001b[32;49mpip install --upgrade pip\u001b[0m\n"
     ]
    }
   ],
   "source": [
    "! pip install firecrawl-py"
   ]
  },
  {
   "cell_type": "code",
   "execution_count": 2,
   "metadata": {},
   "outputs": [
    {
     "name": "stdout",
     "output_type": "stream",
     "text": [
      "Requirement already satisfied: python-dotenv in /Users/acrobat/Documents/GitHub/extract_html/extract_html/lib/python3.11/site-packages (1.0.1)\n",
      "\n",
      "\u001b[1m[\u001b[0m\u001b[34;49mnotice\u001b[0m\u001b[1;39;49m]\u001b[0m\u001b[39;49m A new release of pip is available: \u001b[0m\u001b[31;49m24.0\u001b[0m\u001b[39;49m -> \u001b[0m\u001b[32;49m24.1.2\u001b[0m\n",
      "\u001b[1m[\u001b[0m\u001b[34;49mnotice\u001b[0m\u001b[1;39;49m]\u001b[0m\u001b[39;49m To update, run: \u001b[0m\u001b[32;49mpip install --upgrade pip\u001b[0m\n"
     ]
    }
   ],
   "source": [
    "! pip install python-dotenv"
   ]
  },
  {
   "cell_type": "code",
   "execution_count": 1,
   "metadata": {},
   "outputs": [],
   "source": [
    "# Install with pip install firecrawl-py\n",
    "import os\n",
    "from firecrawl import FirecrawlApp"
   ]
  },
  {
   "cell_type": "code",
   "execution_count": 2,
   "metadata": {},
   "outputs": [],
   "source": [
    "from dotenv import load_dotenv\n",
    "import os\n",
    "\n",
    "load_dotenv()  # This loads the variables from .env\n",
    "\n",
    "api_key = os.getenv('FIRECRAWL_API_KEY')\n",
    "if not api_key:\n",
    "    raise ValueError(\"No API key provided. Please set the FIRECRAWL_API_KEY environment variable.\")\n",
    "app = FirecrawlApp(api_key=api_key)"
   ]
  },
  {
   "cell_type": "code",
   "execution_count": 54,
   "metadata": {},
   "outputs": [],
   "source": [
    "# Scrape a single URL\n",
    "url = 'https://www.poppykidsdental.com/post/pediatric-dentistry-the-key-to-lifelong-healthy-smiles-for-kids'\n",
    "scraped_data = app.scrape_url(url)\n",
    "\n",
    "# # Crawl a website\n",
    "# crawl_url = 'https://mendable.ai'\n",
    "# params = {\n",
    "#     'pageOptions': {\n",
    "#         'onlyMainContent': True\n",
    "#     }\n",
    "# }\n",
    "# crawl_result = app.crawl_url(crawl_url, params=params)"
   ]
  },
  {
   "cell_type": "code",
   "execution_count": null,
   "metadata": {},
   "outputs": [],
   "source": [
    "print(type(scraped_data))\n",
    "print(scraped_data)"
   ]
  },
  {
   "cell_type": "markdown",
   "metadata": {},
   "source": [
    "# ANTHROPIC (Sonnet-3.5) - Sucks cause of output limit of 4k. Otherwise great. lol"
   ]
  },
  {
   "cell_type": "code",
   "execution_count": 23,
   "metadata": {},
   "outputs": [],
   "source": [
    "import os\n",
    "import json\n",
    "from dotenv import load_dotenv\n",
    "from anthropic import Anthropic\n",
    "\n",
    "# Load environment variables\n",
    "load_dotenv()\n",
    "\n",
    "# Get API key from environment variable\n",
    "api_key = os.getenv(\"ANTHROPIC_API_KEY\")\n",
    "\n",
    "# Initialize Anthropic client\n",
    "client = Anthropic(api_key=api_key)\n",
    "\n"
   ]
  },
  {
   "cell_type": "code",
   "execution_count": 39,
   "metadata": {},
   "outputs": [],
   "source": [
    "# Function to extract title and content\n",
    "def extract_blog_info(scraped_data):\n",
    "    if not isinstance(scraped_data, dict):\n",
    "        raise ValueError(f\"Expected a dictionary, but got {type(scraped_data)}\")\n",
    "    \n",
    "    # Extract title\n",
    "    metadata = scraped_data.get('metadata', {})\n",
    "    title = metadata.get('title', \"Title not found\")\n",
    "\n",
    "    # Extract content\n",
    "    content = scraped_data.get('content', \"Content not found\")\n",
    "    \n",
    "    return title, content"
   ]
  },
  {
   "cell_type": "code",
   "execution_count": 47,
   "metadata": {},
   "outputs": [],
   "source": [
    "# Main function to process the scraped site\n",
    "def process_scraped_site(scraped_data):\n",
    "    try:\n",
    "        title, content = extract_blog_info(scraped_data)\n",
    "    except Exception as e:\n",
    "        print(f\"Error extracting blog info: {e}\")\n",
    "        return None, None\n",
    "\n",
    "    # Use Claude to extract the full content\n",
    "    try:\n",
    "        message = client.messages.create(\n",
    "            model=\"claude-3-5-sonnet-20240620\",\n",
    "            max_tokens=1000,\n",
    "            messages=[\n",
    "                {\n",
    "                    \"role\": \"user\",\n",
    "                    \"content\": f\"\"\"Please extract and format the full content of the following blog post, \n",
    "                    including all titles, subtitles, bullet points, and paragraphs. Maintain the original \n",
    "                    structure and formatting as much as possible.\n",
    "\n",
    "                    Title: {title}\n",
    "\n",
    "                    Content: {content}\n",
    "\n",
    "                    Please provide the extracted content below, preserving all headings, subheadings, \n",
    "                    bullet points, and paragraph structures:\"\"\"\n",
    "                }\n",
    "            ]\n",
    "        )\n",
    "        return title, message.content[0].text\n",
    "    except Exception as e:\n",
    "        print(f\"Error processing with Claude: {e}\")\n",
    "        return title, \"Error extracting content\""
   ]
  },
  {
   "cell_type": "code",
   "execution_count": 48,
   "metadata": {},
   "outputs": [
    {
     "name": "stdout",
     "output_type": "stream",
     "text": [
      "Title: How to Choose between Bamboo and Traditional Toothbrushes? | Poppy Kids Pediatric Dentistry\n",
      "Content:\n",
      "Here is the extracted and formatted content from the blog post:\n",
      "\n",
      "How to Choose between Bamboo and Traditional Toothbrushes?\n",
      "==========================================================\n",
      "\n",
      "Dr.Andrea\n",
      "\n",
      "June 29, 2024\n",
      "\n",
      "Brushing Up on Sustainability: Choosing Between Bamboo and Traditional Toothbrushes\n",
      "-----------------------------------------------------------------------------------\n",
      "\n",
      "As we become more environmentally aware, the choice of everyday items like toothbrushes also reflects our commitment to sustainability. While traditional plastic toothbrushes have been the standard for decades, bamboo toothbrushes have emerged as an eco-friendly alternative. However, each type comes with its own set of pros and cons. Let's delve deeper into the differences between bamboo and traditional manual toothbrushes, highlighting not just the benefits but also the potential drawbacks.\n",
      "\n",
      "### Material and Environmental Impact:\n",
      "\n",
      "#### Plastic Toothbrushes: A Persistent Problem\n",
      "\n",
      "**Material Composition and Usage:** Traditional toothbrushes are primarily made from a combination of plastic materials, such as polypropylene for the handle and nylon for the bristles. Globally, over a billion toothbrushes are discarded annually, leading to significant waste in oceans.\n",
      "\n",
      "**Environmental Impact:**\n",
      "\n",
      "* **Non-Biodegradability:** Plastic toothbrushes do not biodegrade under natural conditions. Instead, they slowly break down into smaller particles called microplastics, which persist in the environment indefinitely. These microplastics can accumulate in waterways, oceans, and wildlife, causing ecological and health issues.\n",
      "\n",
      "* **Decomposition Rate:** A single plastic toothbrush can take over 400 years to decompose, spending centuries in landfills or as litter in natural environments.\n",
      "\n",
      "* **Recycling Challenges:** Due to their composite materials and small size, toothbrushes are typically not recyclable through conventional municipal recycling systems. This leads to most used toothbrushes ending up in landfills, incinerators, or the natural environment.\n",
      "\n",
      "#### Bamboo Toothbrushes: An Eco-Friendly Alternative?\n",
      "\n",
      "**Material Composition and Usage:** Bamboo toothbrushes use bamboo for the handle, which is a highly renewable resource known for its rapid growth rate and low requirement for fertilizers, pesticides, or much water.\n",
      "\n",
      "**Environmental Impact:**\n",
      "\n",
      "* **Biodegradability:** The handles of bamboo toothbrushes are naturally biodegradable. When disposed of properly, they can decompose back into the soil within a few years, significantly reducing landfill waste compared to plastic.\n",
      "\n",
      "* **Decomposition Rate:** A bamboo handle can decompose in as little as six months to a few years, depending on the environmental conditions. This is a stark contrast to the centuries required for plastic toothbrushes.\n",
      "\n",
      "* **Sustainability of Bamboo:** Bamboo is considered one of the most sustainable plants on Earth due to its ability to grow quickly (some species can grow up to 35 inches per day) and regenerate from its own roots without needing replanting. It also absorbs carbon dioxide and produces 35% more oxygen than equivalent stands of trees, making it an excellent carbon sink.\n",
      "\n",
      "* **Whole Product Considerations:** While the handle is eco-friendly, most bamboo toothbrushes still use nylon bristles, which are not biodegradable. However, some brands offer bristles made from bio-based materials or are exploring fully compostable options.\n",
      "\n",
      "### Cost and Accessibility:\n",
      "\n",
      "* **Bamboo Toothbrushes:** While bamboo toothbrushes are more available than before in health stores and online, they generally cost more than traditional options.\n",
      "\n",
      "* **Traditional Manual Toothbrushes:** These are less expensive and widely available at most grocery stores and pharmacies, but their affordability is offset by significant environmental costs.\n",
      "\n",
      "### Durability and Maintenance:\n",
      "\n",
      "* **Bamboo Toothbrushes:** Bamboo toothbrushes are less durable in wet conditions; it's recommended to keep them dry to avoid mold. Proper maintenance includes rinsing and drying the handle after each use.\n",
      "\n",
      "* **Traditional Manual Toothbrushes:** Plastic toothbrushes are more durable and require less maintenance, making them a convenient choice for many users.\n",
      "\n",
      "### Health Recommendations:\n",
      "\n",
      "Regardless of the material of your toothbrush, dental professionals recommend replacing your toothbrush every three months, or sooner if the bristles become frayed. Regular replacement is crucial\n"
     ]
    }
   ],
   "source": [
    "title, extracted_content = process_scraped_site(scraped_data)\n",
    "if title and extracted_content:\n",
    "    print(f\"Title: {title}\")\n",
    "    print(f\"Content:\\n{extracted_content}\")\n",
    "else:\n",
    "    print(\"Failed to process the blog post.\")"
   ]
  },
  {
   "cell_type": "code",
   "execution_count": 49,
   "metadata": {},
   "outputs": [
    {
     "name": "stdout",
     "output_type": "stream",
     "text": [
      "\n",
      "Debugging Information:\n",
      "Keys in scraped_data: dict_keys(['content', 'markdown', 'metadata', 'linksOnPage'])\n",
      "Type of 'metadata': <class 'dict'>\n",
      "Keys in 'metadata': dict_keys(['title', 'description', 'ogTitle', 'ogDescription', 'ogImage', 'ogLocaleAlternate', 'sourceURL', 'pageStatusCode'])\n"
     ]
    }
   ],
   "source": [
    "# Debugging: Print the structure of scraped_data\n",
    "print(\"\\nDebugging Information:\")\n",
    "print(\"Keys in scraped_data:\", scraped_data.keys())\n",
    "print(\"Type of 'metadata':\", type(scraped_data.get('metadata')))\n",
    "print(\"Keys in 'metadata':\", scraped_data.get('metadata', {}).keys())"
   ]
  },
  {
   "cell_type": "markdown",
   "metadata": {},
   "source": [
    "### Key learning - Anthropic is NOT suitable for what I need to do. 8192 output token limit? It is not even enough to process a simple blog. With a 200K context window basically it can only do summarization. I cry for the time I spent on this. Back to OPEANAI and GPT4o-mini. 16K output should do it. "
   ]
  },
  {
   "cell_type": "markdown",
   "metadata": {},
   "source": [
    "# OPENAI"
   ]
  },
  {
   "cell_type": "code",
   "execution_count": null,
   "metadata": {},
   "outputs": [],
   "source": [
    "#! pip install openai"
   ]
  },
  {
   "cell_type": "code",
   "execution_count": 5,
   "metadata": {},
   "outputs": [],
   "source": [
    "import os\n",
    "from dotenv import load_dotenv\n",
    "from openai import OpenAI\n",
    "\n",
    "# Load environment variables\n",
    "load_dotenv()\n",
    "api_key = os.getenv('OPENAI_API_KEY')\n",
    "# Initialize OpenAI client\n",
    "client = OpenAI(\n",
    "    api_key=api_key,\n",
    ")"
   ]
  },
  {
   "cell_type": "code",
   "execution_count": 7,
   "metadata": {},
   "outputs": [],
   "source": [
    "# Function to extract title and content\n",
    "def extract_blog_info(scraped_data):\n",
    "    if not isinstance(scraped_data, dict):\n",
    "        raise ValueError(f\"Expected a dictionary, but got {type(scraped_data)}\")\n",
    "    \n",
    "    # Extract title\n",
    "    metadata = scraped_data.get('metadata', {})\n",
    "    title = metadata.get('title', \"Title not found\")\n",
    "\n",
    "    # Extract content\n",
    "    content = scraped_data.get('content', \"Content not found\")\n",
    "    \n",
    "    return title, content"
   ]
  },
  {
   "cell_type": "code",
   "execution_count": 8,
   "metadata": {},
   "outputs": [],
   "source": [
    "def process_scraped_site(scraped_data):\n",
    "    try:\n",
    "        title, content = extract_blog_info(scraped_data)\n",
    "    except Exception as e:\n",
    "        print(f\"Error extracting blog info: {e}\")\n",
    "        return None, None\n",
    "\n",
    "    # Use OpenAI GPT-4 to extract the full content\n",
    "    try:\n",
    "        prompt = f\"\"\"\n",
    "        Please extract and format the full content of the following blog post, excluding any image links, alt text, writer's name, time of writing, and any sections such as 'Help Shape Our Next Topic'. Additionally, remove any hyperlinks from the content. Maintain the original structure and formatting of the main content only.\n",
    "\n",
    "\n",
    "        Title: {title}\n",
    "\n",
    "        Content: {content}\n",
    "\n",
    "        Please provide only the cleaned and formatted content below, preserving all headings, subheadings, bullet points, and paragraph structures, but excluding any extraneous information as mentioned:\n",
    "        \"\"\"\n",
    "        \n",
    "        response = client.chat.completions.create(\n",
    "            messages=[\n",
    "                {\n",
    "                    \"role\": \"user\",\n",
    "                    \"content\": prompt\n",
    "                }\n",
    "            ],\n",
    "            model=\"gpt-4o-mini\",\n",
    "            max_tokens=8000\n",
    "        )\n",
    "        return title, response.choices[0].message.content\n",
    "    except Exception as e:\n",
    "        print(f\"Error processing with OpenAI GPT-4: {e}\")\n",
    "        return title, \"Error extracting content\"\n"
   ]
  },
  {
   "cell_type": "code",
   "execution_count": 9,
   "metadata": {},
   "outputs": [],
   "source": [
    "# Function to save the content to a text file\n",
    "def save_to_file(title, content):\n",
    "    # Format the filename\n",
    "    title = title.replace(' | Poppy Kids Pediatric Dentistry', '')\n",
    "    filename = title.replace(\" \", \"_\").replace(\"’s\", \"s\") + \".txt\"\n",
    "    filepath = f\"/Users/acrobat/Documents/GitHub/extract_html/blogs/{filename}\"\n",
    "    \n",
    "    # Write the content to the file\n",
    "    with open(filepath, \"w\") as file:\n",
    "        file.write(content)\n",
    "    \n",
    "    print(f\"File saved as {filepath}\")"
   ]
  },
  {
   "cell_type": "code",
   "execution_count": 55,
   "metadata": {},
   "outputs": [
    {
     "name": "stdout",
     "output_type": "stream",
     "text": [
      "Title: Pediatric dentistry: The key to lifelong, healthy smiles for kids | Poppy Kids Pediatric Dentistry\n",
      "Content:\n",
      "# Pediatric dentistry: The key to lifelong, healthy smiles for kids\n",
      "\n",
      "As a Board Certified pediatric dentist, I am deeply invested in the unique oral health journey of each child. At Poppy Kids Pediatric Dentistry, we're not just a dental practice; we're a child's stepping stone to a lifetime of healthy smiles. Our mission aligns with the American Board of Pediatric Dentistry and the American Academy of Pediatric Dentistry's view that pediatric dentists are akin to pediatricians for children's oral health, equipped with specialized training to address the nuanced dental needs of infants through adolescents, including those with special health needs.\n",
      "\n",
      "## The distinct role of pediatric dentists\n",
      "\n",
      "Pediatric dentistry is a realm that extends beyond the scope of general dentistry. It's a specialty honed with two years of additional training after dental school, focusing exclusively on treating children. This training is rigorous and detailed, covering aspects of child development, growth, and psychology, enabling us to deliver comprehensive specialty oral care.\n",
      "\n",
      "## Board certification and expertise that sets us apart\n",
      "\n",
      "Pediatric dentists undergo extensive training that equips them to understand and manage children's behavior, ensuring a gentle, empathetic approach to dental care that caters to the individual needs of young patients. As specialists, we have a deep expertise in caring for children's primary teeth, guiding their growth, and addressing developmental dental concerns. Board certification by the American Board of Pediatric Dentistry (ABPD) is a testament to a dentist's advanced skill set, emphasizing a dedication to ongoing education and the highest standards of pediatric dental practice, tailored specifically to the complex needs of children's evolving oral health.\n",
      "\n",
      "## Early detection and preventive care\n",
      "\n",
      "Emphasizing early detection and preventive care, our practice adheres to the American Academy of Pediatric Dentistry's recommendation to initiate dental visits by a child's first birthday. This proactive philosophy ensures we're able to identify and address potential oral health issues before they escalate, fostering a preventive mindset that's crucial for young, developing smiles.\n",
      "\n",
      "## Customized care for developing teeth\n",
      "\n",
      "Understanding that children's dental needs evolve with their growth, we offer tailored dental care strategies to support these changes. From the delicate handling of baby teeth to guiding the proper alignment of permanent teeth, our approach at Poppy Kids Pediatric Dentistry is meticulously crafted to provide targeted care at every developmental milestone.\n",
      "\n",
      "## Navigating childhood oral health challenges\n",
      "\n",
      "Our expertise in pediatric dentistry positions us to adeptly navigate childhood-specific oral health challenges—be it teething discomfort, the nuances of thumb-sucking, or tooth decay. Our strategies are not just reactive but also educational, providing parents with the tools and knowledge to make informed decisions about their children's oral habits and health.\n",
      "\n",
      "## Creating positive dental narratives\n",
      "\n",
      "At the core of our practice is the commitment to transforming dental visits into positive experiences. We understand the lasting impact that early dental experiences can have on a child's perception of oral healthcare, and we're dedicated to making each visit educational, engaging, and, above all, fun.\n",
      "\n",
      "## Empowering families in oral health education\n",
      "\n",
      "A cornerstone of our practice is the empowerment of families through education. By arming parents with comprehensive insights on oral hygiene practices, nutrition, and the impact of oral habits, we foster a collaborative environment where the child's oral health is a shared responsibility.\n",
      "\n",
      "## Integrating pediatric dentistry with overall well-being\n",
      "\n",
      "We firmly believe that pediatric dentistry is integral not just to a child's oral health but also to their overall well-being. Our practice is designed to be a safe space where children can associate dental care with positivity and comfort, thereby instilling confidence and reducing any dental-related anxieties.\n",
      "\n",
      "## A collaborative approach to comprehensive care\n",
      "\n",
      "Our commitment to comprehensive care means we work in tandem with other healthcare providers, ensuring that a child's dental health is harmoniously integrated with their overall health needs.\n",
      "\n",
      "Pediatric dentistry at Poppy Kids Pediatric Dentistry is more than just caring for teeth; it's about nurturing the growth and happiness of our community's children. We are dedicated to crafting joyful and healthful dental journeys, providing personalized care that speaks to the individual needs of each child, and championing the cause of comprehensive, lifelong oral health.\n",
      "\n",
      "**Grin and Grow!**\n",
      "\n",
      "\\- Dr. Andrea\n"
     ]
    }
   ],
   "source": [
    "title, extracted_content = process_scraped_site(scraped_data)\n",
    "if title and extracted_content:\n",
    "    print(f\"Title: {title}\")\n",
    "    print(f\"Content:\\n{extracted_content}\")\n",
    "\n",
    "\n",
    "else:\n",
    "    print(\"Failed to process the blog post.\")"
   ]
  },
  {
   "cell_type": "code",
   "execution_count": 56,
   "metadata": {},
   "outputs": [
    {
     "name": "stdout",
     "output_type": "stream",
     "text": [
      "File saved as /Users/acrobat/Documents/GitHub/extract_html/blogs/Pediatric_dentistry:_The_key_to_lifelong,_healthy_smiles_for_kids.txt\n"
     ]
    }
   ],
   "source": [
    "save_to_file(title, extracted_content)\n"
   ]
  },
  {
   "cell_type": "code",
   "execution_count": 20,
   "metadata": {},
   "outputs": [
    {
     "name": "stdout",
     "output_type": "stream",
     "text": [
      "\n",
      "Debugging Information:\n",
      "Keys in scraped_data: dict_keys(['content', 'markdown', 'metadata', 'linksOnPage'])\n",
      "Type of 'metadata': <class 'dict'>\n",
      "Keys in 'metadata': dict_keys(['title', 'description', 'ogTitle', 'ogDescription', 'ogImage', 'ogLocaleAlternate', 'sourceURL', 'pageStatusCode'])\n"
     ]
    }
   ],
   "source": [
    "# Debugging: Print the structure of scraped_data\n",
    "print(\"\\nDebugging Information:\")\n",
    "print(\"Keys in scraped_data:\", scraped_data.keys())\n",
    "print(\"Type of 'metadata':\", type(scraped_data.get('metadata')))\n",
    "print(\"Keys in 'metadata':\", scraped_data.get('metadata', {}).keys())"
   ]
  }
 ],
 "metadata": {
  "kernelspec": {
   "display_name": "extract_html",
   "language": "python",
   "name": "python3"
  },
  "language_info": {
   "codemirror_mode": {
    "name": "ipython",
    "version": 3
   },
   "file_extension": ".py",
   "mimetype": "text/x-python",
   "name": "python",
   "nbconvert_exporter": "python",
   "pygments_lexer": "ipython3",
   "version": "3.11.6"
  }
 },
 "nbformat": 4,
 "nbformat_minor": 2
}
