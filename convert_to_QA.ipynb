{
 "cells": [
  {
   "cell_type": "markdown",
   "metadata": {},
   "source": [
    "# Using Langchain to create the Q and A pairs from downloaded text Blogs"
   ]
  },
  {
   "cell_type": "code",
   "execution_count": 6,
   "metadata": {},
   "outputs": [
    {
     "name": "stdout",
     "output_type": "stream",
     "text": [
      "Requirement already satisfied: python-dotenv in ./extract_html/lib/python3.11/site-packages (1.0.1)\n"
     ]
    }
   ],
   "source": [
    "! pip install python-dotenv"
   ]
  },
  {
   "cell_type": "code",
   "execution_count": 7,
   "metadata": {},
   "outputs": [],
   "source": [
    "! pip install --upgrade --quiet langchain langchain-core langchain-community langchain-openai"
   ]
  },
  {
   "cell_type": "code",
   "execution_count": 2,
   "metadata": {},
   "outputs": [],
   "source": [
    "from dotenv import load_dotenv\n",
    "import os\n",
    "\n",
    "# Load the environment variables from the .env file\n",
    "load_dotenv()\n",
    "\n",
    "# Get the OpenAI API key from the environment variables\n",
    "os.environ[\"OPENAI_API_KEY\"] = os.getenv(\"OPENAI_API_KEY\")"
   ]
  },
  {
   "cell_type": "code",
   "execution_count": 55,
   "metadata": {},
   "outputs": [],
   "source": [
    "from langchain_openai import ChatOpenAI\n",
    "\n",
    "openai_chat_model = ChatOpenAI(model=\"gpt-4-turbo\") # try with 3.5-turbo since the idea is low cost. However gpt4 geenrates 6 questions so preferred. \n",
    "#openai_chat_model = ChatOpenAI(model=\"gpt-3.5-turbo\")"
   ]
  },
  {
   "cell_type": "markdown",
   "metadata": {},
   "source": [
    "# Basics (Convert One)"
   ]
  },
  {
   "cell_type": "code",
   "execution_count": 12,
   "metadata": {},
   "outputs": [],
   "source": [
    "HUMAN_TEMPLATE = \"\"\"\n",
    "Generate a list of question and answer pairs based on the following context provided. Each Q&A pair should summarize and extract key information relevant to parents of infants, children, and teens. \n",
    "    Questions should be direct and address common concerns or topics in pediatric dentistry. \n",
    "    Answers must be concise, accurate, and no longer than a few sentences, providing a brief summary of the essential points from the text related to the question.\n",
    "\n",
    "    Example:\n",
    "    - Q: What is the recommended age for a child's first dental visit?\n",
    "    - A: The American Academy of Pediatric Dentistry recommends that a child's first dental visit should be by age 1 or within six months after the first tooth erupts.\n",
    "    \n",
    "    Context:\n",
    "    {context}\n",
    "\n",
    "    \"\"\""
   ]
  },
  {
   "cell_type": "code",
   "execution_count": 13,
   "metadata": {},
   "outputs": [],
   "source": [
    "CONTEXT = \"\"\"\n",
    "Baby's First Laugh\n",
    "\n",
    "Waiting for your baby's first milestone laugh can be both exciting and frustrating. If you haven't heard it yet, here's how you can get your baby to giggle or laugh for the first time –and you'll remember it forever.\n",
    "\n",
    "When Should I Expect My Baby to Smile and Laugh for the First Time?\n",
    "While your baby will make noises and some facial interactions from birth, a social smile will begin to develop around three months of age. By four months, your baby will start smiling spontaneously at people. Once your baby masters smiling and can recognize the positive reactions, sound effects like cooing will begin. Cooing will turn into giggles, and soon after, you will likely hear your baby's first laugh.\n",
    "\n",
    "How Can I Get My Baby to Smile and Laugh?\n",
    "Babies won't laugh until they are ready, so while you can and should encourage laughter, don't be discouraged if it isn't happening as soon as you'd hoped.\n",
    "Try the following to get that first giggle or laugh:\n",
    "• Copy your baby's sounds\n",
    "• Act excited and smile when your baby smiles or makes sounds\n",
    "• Pay close attention to what your baby likes so you can repeat it\n",
    "• Play games such a peek-a-boo\n",
    "• Give age-appropriate toys to your baby, such as rattles and picture books\n",
    "• Put toys near your baby, so they can reach for them or kick them\n",
    "\n",
    "What if My Baby Smiles a Lot but Doesn't Laugh?\n",
    "If your baby smiles spontaneously but doesn't seem to want to laugh, you might worry that you're doing something wrong. Don't forget that every baby is born with different innate temperaments, which could influence how much your baby wants to laugh.\n",
    "That said, the CDC cautions that if your baby hasn't laughed or doesn't laugh regularly by \n",
    "age six months old\n",
    ", you should talk to your baby's doctor or nurse to ensure that this isn't a sign of a possible developmental delay or hearing impairment.\n",
    "The first few months of your child's life is an exciting time, and \n",
    "each milestone\n",
    " brings up a whole range of emotions for you as a parent, from your baby's first words to the \n",
    "eruption of their first teeth\n",
    ". Waiting for your baby's first laugh can be frustrating, but remember, the wait is worth it!\n",
    "\"\"\""
   ]
  },
  {
   "cell_type": "code",
   "execution_count": 18,
   "metadata": {},
   "outputs": [],
   "source": [
    "from langchain.prompts import ChatPromptTemplate\n",
    "\n",
    "chat_prompt = ChatPromptTemplate.from_messages([\n",
    "    (\"human\", HUMAN_TEMPLATE)\n",
    "])\n",
    "\n",
    "chat_chain = chat_prompt | openai_chat_model\n",
    "\n",
    "response=chat_chain.invoke({\"context\" : CONTEXT})"
   ]
  },
  {
   "cell_type": "code",
   "execution_count": 19,
   "metadata": {},
   "outputs": [
    {
     "name": "stdout",
     "output_type": "stream",
     "text": [
      "content=\"- Q: When should I expect my baby to smile and laugh for the first time?\\n- A: A social smile will develop around three months of age, with spontaneous smiling at people starting around four months. Laughter typically follows soon after.\\n  \\n- Q: How can I encourage my baby to smile and laugh?\\n- A: You can encourage laughter by copying your baby's sounds, acting excited when they smile, playing games like peek-a-boo, and giving them age-appropriate toys to interact with.\\n\\n- Q: What if my baby smiles a lot but doesn't laugh?\\n- A: If your baby smiles but doesn't laugh regularly by six months old, it's recommended to talk to your baby's doctor to rule out any possible developmental delays or hearing impairments. \\n\\n- Q: What are some milestones in a child's first few months of life?\\n- A: Milestones in a child's first few months include their first words, the eruption of their first teeth, and their first genuine laughter, among others.\" response_metadata={'token_usage': {'completion_tokens': 208, 'prompt_tokens': 631, 'total_tokens': 839}, 'model_name': 'gpt-3.5-turbo', 'system_fingerprint': 'fp_3b956da36b', 'finish_reason': 'stop', 'logprobs': None} id='run-f469aa79-6e80-492a-8b26-63b447d8b36f-0'\n"
     ]
    }
   ],
   "source": [
    "print(response) # gpt3.5-turbo - creates 3 questions"
   ]
  },
  {
   "cell_type": "code",
   "execution_count": 15,
   "metadata": {},
   "outputs": [
    {
     "name": "stdout",
     "output_type": "stream",
     "text": [
      "content=\"- Q: At what age should I expect my baby to start smiling socially?\\n- A: You can expect your baby to begin developing a social smile around three months of age.\\n\\n- Q: When is it typical for a baby to start laughing?\\n- A: Typically, a baby may start laughing around four months old, after they have begun to smile spontaneously at people.\\n\\n- Q: What are some effective ways to encourage my baby to smile and laugh?\\n- A: To encourage your baby to smile and laugh, you can copy their sounds, show excitement when they smile, observe and repeat actions they enjoy, play interactive games like peek-a-boo, and provide age-appropriate toys like rattles and picture books.\\n\\n- Q: What should I do if my baby smiles but doesn't laugh by six months?\\n- A: If your baby hasn't laughed by six months and doesn't laugh regularly, it's advisable to consult your baby's doctor or nurse. This could be important to rule out any developmental delays or hearing impairments.\\n\\n- Q: Is it a concern if my baby isn't laughing as expected?\\n- A: While it's natural for parents to worry, remember that each baby has a unique temperament that affects their readiness to laugh. However, if your baby shows no signs of laughter by six months, seek medical advice to ensure there are no underlying issues. \\n\\n- Q: Why is it important to monitor milestones like laughing in babies?\\n- A: Monitoring milestones such as laughing is crucial as it can provide early indications of a baby’s social and developmental progress. Delays in reaching milestones may require professional evaluation to address potential issues early on.\" response_metadata={'token_usage': {'completion_tokens': 334, 'prompt_tokens': 631, 'total_tokens': 965}, 'model_name': 'gpt-4-turbo', 'system_fingerprint': 'fp_ea6eb70039', 'finish_reason': 'stop', 'logprobs': None} id='run-e82ba696-d36d-470e-8b26-7984753598ba-0'\n"
     ]
    }
   ],
   "source": [
    "print(response) # gpt-4-turbo - More tokens generated. - creates 6 questions. This IMO justifies the additional cost. \n",
    "# completion token total is about 35% more for gpt 4 turbo. This works great to generate more questions from same content. "
   ]
  },
  {
   "cell_type": "code",
   "execution_count": 9,
   "metadata": {},
   "outputs": [
    {
     "data": {
      "text/plain": [
       "\"- Q: When should I expect my baby to smile and laugh for the first time?\\n- A: A social smile typically develops around three months of age, with spontaneous smiling at people starting around four months. Giggles and the first laugh usually follow soon after.\\n\\n- Q: How can I encourage my baby to smile and laugh?\\n- A: Encourage laughter by copying your baby's sounds, acting excited when they smile, paying attention to their preferences, playing games like peek-a-boo, and providing age-appropriate toys.\\n\\n- Q: What if my baby smiles a lot but doesn't laugh?\\n- A: If your baby smiles but doesn't laugh by age six months, consult your baby's doctor to rule out any developmental delays or hearing impairments. Every baby develops at their own pace. \\n\\n- Q: What milestones can I expect in the first few months of my child's life?\\n- A: The first few months bring various milestones, including the eruption of the first teeth, first words, and other developmental milestones like smiling, cooing, and laughing. Each milestone is unique and exciting for both the baby and the parent.\""
      ]
     },
     "execution_count": 9,
     "metadata": {},
     "output_type": "execute_result"
    }
   ],
   "source": [
    "response.content"
   ]
  },
  {
   "cell_type": "code",
   "execution_count": 30,
   "metadata": {},
   "outputs": [],
   "source": [
    "# Write to .txt file\n",
    "with open('faq_training.txt', 'w') as f:\n",
    "    f.write(response.content)"
   ]
  },
  {
   "cell_type": "code",
   "execution_count": 16,
   "metadata": {},
   "outputs": [],
   "source": [
    "# Append to .txt file\n",
    "with open('faq_training.txt', 'a') as f:\n",
    "    f.write('\\n\\n'+ response.content)  # format because the next line would like to have a new line"
   ]
  },
  {
   "cell_type": "markdown",
   "metadata": {},
   "source": [
    "# Create a function that will read directly from .txt and generate Q&A"
   ]
  },
  {
   "cell_type": "code",
   "execution_count": 21,
   "metadata": {},
   "outputs": [],
   "source": [
    "HUMAN_TEMPLATE = \"\"\"\n",
    "Generate a list of question and answer pairs based on the following context provided. Each Q&A pair should summarize and extract key information relevant to parents of infants, children, and teens. \n",
    "    Questions should be direct and address common concerns or topics in pediatric dentistry. \n",
    "    Answers must be concise, accurate, and no longer than a few sentences, providing a brief summary of the essential points from the text related to the question.\n",
    "\n",
    "    Example:\n",
    "    - Q: What is the recommended age for a child's first dental visit?\n",
    "    - A: The American Academy of Pediatric Dentistry recommends that a child's first dental visit should be by age 1 or within six months after the first tooth erupts.\n",
    "    \n",
    "    Context:\n",
    "    {context}\n",
    "\n",
    "    \"\"\"\n",
    "\n",
    "CONTEXT_FILE_PATH = \"/Users/acrobat/Documents/GitHub/extract_html/blogs/baby's_first_laugh.txt\"\n"
   ]
  },
  {
   "cell_type": "code",
   "execution_count": 22,
   "metadata": {},
   "outputs": [],
   "source": [
    "from langchain.prompts import ChatPromptTemplate\n",
    "\n",
    "def generate_response(human_template, context_file_path):\n",
    "    # Read the context from the text file\n",
    "    with open(context_file_path, 'r') as f:\n",
    "        context = f.read()\n",
    "\n",
    "    # Create the chat prompt\n",
    "    chat_prompt = ChatPromptTemplate.from_messages([\n",
    "        (\"human\", human_template)\n",
    "    ])\n",
    "\n",
    "    # Create the chat chain\n",
    "    chat_chain = chat_prompt | openai_chat_model\n",
    "\n",
    "    # Invoke the chat chain with the context\n",
    "    response = chat_chain.invoke({\"context\" : context})\n",
    "\n",
    "    return response\n",
    "\n",
    "# Usage\n",
    "\n",
    "response = generate_response(HUMAN_TEMPLATE, CONTEXT_FILE_PATH)"
   ]
  },
  {
   "cell_type": "code",
   "execution_count": 23,
   "metadata": {},
   "outputs": [
    {
     "name": "stdout",
     "output_type": "stream",
     "text": [
      "content=\"- Q: When can I expect my baby to start smiling and laughing?\\n- A: A social smile will develop around three months of age, with spontaneous smiling at people starting around four months. Laughter typically follows once your baby masters smiling.\\n\\n- Q: How can I encourage my baby to smile and laugh?\\n- A: You can encourage laughter by copying your baby's sounds, acting excited when they smile or make sounds, playing games like peek-a-boo, and providing age-appropriate toys for them to interact with.\\n\\n- Q: What should I do if my baby smiles but doesn't laugh?\\n- A: If your baby smiles but doesn't laugh regularly by age six months, consult your baby's doctor to rule out any possible developmental delays or hearing impairments. Every baby has a unique temperament that may affect their laughter.\" response_metadata={'token_usage': {'completion_tokens': 168, 'prompt_tokens': 631, 'total_tokens': 799}, 'model_name': 'gpt-3.5-turbo', 'system_fingerprint': 'fp_3b956da36b', 'finish_reason': 'stop', 'logprobs': None} id='run-af8abf2a-b8b3-45bd-a6c7-756260c2271a-0'\n"
     ]
    }
   ],
   "source": [
    "print(response)"
   ]
  },
  {
   "cell_type": "markdown",
   "metadata": {},
   "source": [
    "# Read each text file one by one and generate questions in the same manner & print to .txt\n",
    "### Full run by folder - why folder because I may want to add a new folder and append new content to my Q&A file. "
   ]
  },
  {
   "cell_type": "code",
   "execution_count": 75,
   "metadata": {},
   "outputs": [],
   "source": [
    "HUMAN_TEMPLATE = \"\"\"\n",
    "Generate a list of question and answer pairs based on the following context provided. Each Q&A pair should summarize and extract key information relevant to parents of infants, children, and teens. \n",
    "    Questions should be direct and address common concerns or topics in pediatric dentistry. \n",
    "    Answers must be concise, accurate, and no longer than a few sentences, providing a brief summary of the essential points from the text related to the question.\n",
    "\n",
    "    Example:\n",
    "    Question: What is the recommended age for a child's first dental visit?\n",
    "    Answer: The American Academy of Pediatric Dentistry recommends that a child's first dental visit should be by age 1 or within six months after the first tooth erupts.\n",
    "    \n",
    "    Question: How does a baby's temperament affect their laughter?\n",
    "    Answer 4: Each baby's innate temperament can influence how frequently they laugh, as some may naturally smile more while others are less inclined to laugh.\n",
    "    Context:\n",
    "    {context}\n",
    "\n",
    "    \"\"\"\n",
    "\n",
    "DIRECTORY_PATH = \"/Users/acrobat/Documents/GitHub/extract_html/blogs/\"\n"
   ]
  },
  {
   "cell_type": "code",
   "execution_count": 76,
   "metadata": {},
   "outputs": [],
   "source": [
    "import os\n",
    "from langchain.prompts import ChatPromptTemplate\n",
    "\n",
    "def generate_responses(human_template, directory_path):\n",
    "    # Get the names of all files in the directory\n",
    "    file_names = os.listdir(directory_path)\n",
    "\n",
    "    # Loop over the files\n",
    "    for file_name in file_names:\n",
    "        # Skip non-text files\n",
    "        if not file_name.endswith('.txt'):\n",
    "            continue\n",
    "\n",
    "        # Construct the full file path\n",
    "        file_path = os.path.join(directory_path, file_name)\n",
    "\n",
    "        # Read the context from the text file\n",
    "        with open(file_path, 'r') as f:\n",
    "            context = f.read()\n",
    "\n",
    "        # Create the chat prompt\n",
    "        chat_prompt = ChatPromptTemplate.from_messages([\n",
    "            (\"human\", human_template)\n",
    "        ])\n",
    "\n",
    "        # Create the chat chain\n",
    "        chat_chain = chat_prompt | openai_chat_model\n",
    "\n",
    "        # Invoke the chat chain with the context\n",
    "        response = chat_chain.invoke({\"context\" : context})\n",
    "\n",
    "        # Print or otherwise use the response here\n",
    "        #print(response.content)\n",
    "\n",
    "        #write to file\n",
    "        with open('faq_teen_13_18.txt', 'a') as f:\n",
    "            f.write('\\n\\n'+ response.content) \n"
   ]
  },
  {
   "cell_type": "code",
   "execution_count": 77,
   "metadata": {},
   "outputs": [],
   "source": [
    "generate_responses(HUMAN_TEMPLATE, DIRECTORY_PATH) \n",
    "# For a moment I thought the toekn limit may be an issue but since we are making a call each time for each file, no issues.\n",
    "# For a total of 10 files, it took about 37.1 secs to generate the questions using GPT3.5-turbo."
   ]
  },
  {
   "cell_type": "markdown",
   "metadata": {},
   "source": [
    "## Summary: \n",
    "#### This Jupyter notebook takes in the .txt files one by one from extracted blogs and then using langchain creates Q&A pairs and writes them to faq_trianing.txt file. Ideally this notebook can be converted to a .py script that works with extract_web_list.py. The reason i chose to seperate this portion as a jupyter notebook is the format of extracted webpages. Extract_web_list will run on Colgate Blogs and other blogs such as Poppy will be manually added to the blogs folder. Future work can be to create a Webflow CMS extract to get Poppy blogs automaticaly but this is not in scope for this project. \n",
    "\n",
    "\n",
    "# Next is to convert the faq_training.txt file to a format that can be used to fine tune Mistral 7B Instruct. "
   ]
  },
  {
   "cell_type": "markdown",
   "metadata": {},
   "source": [
    "#### If I am using Voiceflow knowledge base then I will have to categorize each Q&A. I will feed the list of questions to OPENAI and then ask it to categorize all questions under a title. This will create a more refined Q and A. this is important because I dont want to look for questions in multiple chuncks. I want similar questions to be stored within same chuncks. "
   ]
  },
  {
   "cell_type": "code",
   "execution_count": null,
   "metadata": {},
   "outputs": [],
   "source": [
    "#The generation of the data set cost ~$3.49 for numerous blog posts"
   ]
  },
  {
   "cell_type": "markdown",
   "metadata": {},
   "source": [
    "### Count the number of Question And Answer pairs"
   ]
  },
  {
   "cell_type": "code",
   "execution_count": 85,
   "metadata": {},
   "outputs": [
    {
     "name": "stdout",
     "output_type": "stream",
     "text": [
      "Number of question-answer pairs: 206\n"
     ]
    }
   ],
   "source": [
    "def count_qa_pairs(qa_list):\n",
    "    return len(qa_list)\n",
    "\n",
    "def read_qa_pairs(file_path):\n",
    "    with open(file_path, 'r') as f:\n",
    "        return f.readlines()\n",
    "\n",
    "file_path = '/Users/acrobat/Documents/GitHub/extract_html/faq_baby_0_4.txt'  \n",
    "qa_list_from_file = read_qa_pairs(file_path)\n",
    "\n",
    "num_pairs = count_qa_pairs(qa_list_from_file)\n",
    "print(\"Number of question-answer pairs:\", num_pairs)"
   ]
  },
  {
   "cell_type": "code",
   "execution_count": 86,
   "metadata": {},
   "outputs": [
    {
     "name": "stdout",
     "output_type": "stream",
     "text": [
      "Number of question-answer pairs: 2180\n"
     ]
    }
   ],
   "source": [
    "file_path = '/Users/acrobat/Documents/GitHub/extract_html/faq_kid_5_12.txt'  \n",
    "qa_list_from_file = read_qa_pairs(file_path)\n",
    "\n",
    "num_pairs = count_qa_pairs(qa_list_from_file)\n",
    "print(\"Number of question-answer pairs:\", num_pairs)"
   ]
  },
  {
   "cell_type": "code",
   "execution_count": 87,
   "metadata": {},
   "outputs": [
    {
     "name": "stdout",
     "output_type": "stream",
     "text": [
      "Number of question-answer pairs: 155\n"
     ]
    }
   ],
   "source": [
    "file_path = '/Users/acrobat/Documents/GitHub/extract_html/faq_teen_13_18.txt'  \n",
    "qa_list_from_file = read_qa_pairs(file_path)\n",
    "\n",
    "num_pairs = count_qa_pairs(qa_list_from_file)\n",
    "print(\"Number of question-answer pairs:\", num_pairs)"
   ]
  },
  {
   "cell_type": "markdown",
   "metadata": {},
   "source": [
    "## The number of Q&A Pairs are 2544. Next is merging the data sets and topic modelling. Also for voiceflow I need txt files within each category. But for Mistral finetune I need a json data set. Tpic will be a part of teh data set. I need to somehow divide these QA's into individual topics. "
   ]
  },
  {
   "cell_type": "code",
   "execution_count": 89,
   "metadata": {},
   "outputs": [],
   "source": [
    "#first, lets create a single dataset from the 3 files.\n",
    "# List of your file paths\n",
    "file_paths = ['/Users/acrobat/Documents/GitHub/extract_html/faq_baby_0_4.txt', '/Users/acrobat/Documents/GitHub/extract_html/faq_kid_5_12.txt', '/Users/acrobat/Documents/GitHub/extract_html/faq_teen_13_18.txt']\n",
    "\n",
    "# Read the files and store their contents\n",
    "contents = []\n",
    "for file_path in file_paths:\n",
    "    with open(file_path, 'r') as f:\n",
    "        contents.append(f.read())\n",
    "\n",
    "# Write the combined contents to a new file\n",
    "with open('clean_faq_dataset.txt', 'w') as f:\n",
    "    for content in contents:\n",
    "        f.write(content + '\\n\\n')"
   ]
  },
  {
   "cell_type": "code",
   "execution_count": 90,
   "metadata": {},
   "outputs": [
    {
     "name": "stdout",
     "output_type": "stream",
     "text": [
      "Number of question-answer pairs: 2544\n"
     ]
    }
   ],
   "source": [
    "file_path = '/Users/acrobat/Documents/GitHub/extract_html/clean_faq_dataset.txt'  \n",
    "qa_list_from_file = read_qa_pairs(file_path)\n",
    "\n",
    "num_pairs = count_qa_pairs(qa_list_from_file)\n",
    "print(\"Number of question-answer pairs:\", num_pairs)"
   ]
  },
  {
   "cell_type": "code",
   "execution_count": null,
   "metadata": {},
   "outputs": [],
   "source": []
  }
 ],
 "metadata": {
  "kernelspec": {
   "display_name": "extract_html",
   "language": "python",
   "name": "python3"
  },
  "language_info": {
   "codemirror_mode": {
    "name": "ipython",
    "version": 3
   },
   "file_extension": ".py",
   "mimetype": "text/x-python",
   "name": "python",
   "nbconvert_exporter": "python",
   "pygments_lexer": "ipython3",
   "version": "3.11.6"
  }
 },
 "nbformat": 4,
 "nbformat_minor": 2
}
